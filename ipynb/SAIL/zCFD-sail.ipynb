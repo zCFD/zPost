{
 "metadata": {
  "name": "zCFD-sail"
 },
 "nbformat": 3,
 "nbformat_minor": 0,
 "worksheets": [
  {
   "cells": [
    {
     "cell_type": "heading",
     "level": 2,
     "metadata": {},
     "source": [
      "zCFD Solver Control"
     ]
    },
    {
     "cell_type": "markdown",
     "metadata": {},
     "source": [
      "Initialise PyLab mode to enable plotting"
     ]
    },
    {
     "cell_type": "code",
     "collapsed": false,
     "input": [
      "%pylab inline"
     ],
     "language": "python",
     "metadata": {},
     "outputs": [
      {
       "output_type": "stream",
       "stream": "stdout",
       "text": [
        "\n",
        "Welcome to pylab, a matplotlib-based Python environment [backend: module://IPython.kernel.zmq.pylab.backend_inline].\n",
        "For more information, type 'help(pylab)'.\n"
       ]
      }
     ],
     "prompt_number": 8
    },
    {
     "cell_type": "markdown",
     "metadata": {},
     "source": [
      "The equivalent command line argument would be `--pylab inline`."
     ]
    },
    {
     "cell_type": "markdown",
     "metadata": {},
     "source": [
      "Change to project directory"
     ]
    },
    {
     "cell_type": "code",
     "collapsed": false,
     "input": [
      "# Set directory\n",
      "dlist = !echo $WORK/SAIL\n",
      "directory = dlist[0]\n",
      "%cd $directory\n",
      "\n",
      "# Set project name\n",
      "project_name = 'sail'\n",
      "\n",
      "# Set case name\n",
      "case_name    = 'sail'"
     ],
     "language": "python",
     "metadata": {},
     "outputs": [
      {
       "output_type": "stream",
       "stream": "stdout",
       "text": [
        "/work/bristol/eisbr011/SAIL\n"
       ]
      }
     ],
     "prompt_number": 9
    },
    {
     "cell_type": "markdown",
     "metadata": {},
     "source": [
      "Import and print parameters"
     ]
    },
    {
     "cell_type": "code",
     "collapsed": false,
     "input": [
      "import pprint\n",
      "#from IPython.lib.pretty import pretty\n",
      "#from IPython.lib.pretty import pprint\n",
      "__import__(case_name)\n",
      "pp = pprint.PrettyPrinter(indent=4)\n",
      "parameters = getattr(sys.modules[case_name],'parameters')\n",
      "pp.pprint(parameters)"
     ],
     "language": "python",
     "metadata": {},
     "outputs": [
      {
       "output_type": "stream",
       "stream": "stdout",
       "text": [
        "{   'BC_1': {   'type': 'symmetry', 'zone': [3]},\n",
        "    'BC_2': {   'kind': 'wallfunction',\n",
        "                'type': 'wall',\n",
        "                'zone': [5, 6, 7, 8, 9, 10, 11, 12]},\n",
        "    'BC_3': {   'condition': 'IC_1',\n",
        "                'kind': 'riemann',\n",
        "                'type': 'farfield',\n",
        "                'zone': [1, 2, 4]},\n",
        "    'BC_4': {   'condition': 'IC_2', 'ref': 4, 'type': 'inflow'},\n",
        "    'BC_5': {   'condition': 'IC_3', 'ref': 5, 'type': 'outflow'},\n",
        "    'IC_1': {   'V': {   'vector': [   3.823034240185907,\n",
        "                                       3.44227549135251,\n",
        "                                       0.0]},\n",
        "                'eddy viscosity ratio': 0.1,\n",
        "                'pressure': 101325.0,\n",
        "                'temperature': 298.0,\n",
        "                'turbulence intensity': 0.0001,\n",
        "                'viscosity': 1.831e-05},\n",
        "    'IC_2': {   'reference': 'IC_1',\n",
        "                'total pressure ratio': 1.0,\n",
        "                'total temperature ratio': 1.0},\n",
        "    'IC_3': {   'reference': 'IC_1', 'static pressure ratio': 1.0},\n",
        "    'RANS': {   'limiter': 'vanalbada',\n",
        "                'order': 'second',\n",
        "                'precondition': 'true',\n",
        "                'turbulence': {   'model': 'sst'}},\n",
        "    'air': {   'Prandtl No': 0.4,\n",
        "               'Sutherlands const': 110.4,\n",
        "               'Turbulent Prandtl No': 0.9,\n",
        "               'gamma': 1.4,\n",
        "               'gas constant': 287.0},\n",
        "    'equations': 'RANS',\n",
        "    'material': 'air',\n",
        "    'reference': 'IC_1',\n",
        "    'report': {   'frequency': 10},\n",
        "    'restart': 'false',\n",
        "    'time marching': {   'cfl': 2.0,\n",
        "                         'cycles': 5000,\n",
        "                         'multigrid': 10,\n",
        "                         'ramp': {   'growth': 1.1, 'initial': 1.0},\n",
        "                         'scheme': {   'name': 'runge kutta', 'stage': 5},\n",
        "                         'unsteady': {   'order': 'second',\n",
        "                                         'start': 3000,\n",
        "                                         'time step': 1.0,\n",
        "                                         'total time': 1.0}},\n",
        "    'units': 'SI',\n",
        "    'write output': {   'format': 'vtk',\n",
        "                        'frequency': 100,\n",
        "                        'surface variables': [   'V',\n",
        "                                                 'p',\n",
        "                                                 'T',\n",
        "                                                 'rho',\n",
        "                                                 'cp',\n",
        "                                                 'eddy'],\n",
        "                        'volume variables': ['V', 'p', 'T', 'rho', 'eddy']}}\n"
       ]
      }
     ],
     "prompt_number": 10
    },
    {
     "cell_type": "code",
     "collapsed": false,
     "input": [
      "pp.pprint(parameters['IC_1'])"
     ],
     "language": "python",
     "metadata": {},
     "outputs": [
      {
       "output_type": "stream",
       "stream": "stdout",
       "text": [
        "{   'V': {   'vector': [3.823034240185907, 3.44227549135251, 0.0]},\n",
        "    'eddy viscosity ratio': 0.1,\n",
        "    'pressure': 101325.0,\n",
        "    'temperature': 298.0,\n",
        "    'turbulence intensity': 0.0001,\n",
        "    'viscosity': 1.831e-05}\n"
       ]
      }
     ],
     "prompt_number": 11
    },
    {
     "cell_type": "code",
     "collapsed": false,
     "input": [
      "#save parameter file"
     ],
     "language": "python",
     "metadata": {},
     "outputs": [],
     "prompt_number": 12
    },
    {
     "cell_type": "markdown",
     "metadata": {},
     "source": [
      "Print residual"
     ]
    },
    {
     "cell_type": "code",
     "collapsed": false,
     "input": [
      "report = case_name+'_report.csv'\n",
      "names=('cycles','rho','ru','rv','rw','re','rk','rom')\n",
      "\n",
      "import numpy as np\n",
      "data = np.genfromtxt(report, names=names)\n",
      "\n",
      "#normalise\n",
      "for i in range(1,8):\n",
      "    data[names[i]] /= data[names[i]][0]\n",
      "    \n",
      "fig = figure(figsize=(25, 10),dpi=100, facecolor='w', edgecolor='k')\n",
      "\n",
      "for i in range(1,8):\n",
      "    ax = fig.add_subplot(2,4,i)\n",
      "    ax.set_yscale('log')\n",
      "    ax.grid(True)\n",
      "    xlabel(names[0])\n",
      "    ylabel(names[i], multialignment='center')\n",
      "\n",
      "    ax.plot(data[names[0]], data[names[i]], color='r', label=names[i])\n"
     ],
     "language": "python",
     "metadata": {},
     "outputs": [],
     "prompt_number": "*"
    },
    {
     "cell_type": "code",
     "collapsed": false,
     "input": [
      "!bqueues -l emerald"
     ],
     "language": "python",
     "metadata": {},
     "outputs": [
      {
       "output_type": "stream",
       "stream": "stdout",
       "text": [
        "\r\n",
        "QUEUE: emerald\r\n",
        "  -- Emerald queue\r\n",
        "\r\n",
        "PARAMETERS/STATISTICS\r\n",
        "PRIO NICE STATUS          MAX JL/U JL/P JL/H NJOBS  PEND   RUN SSUSP USUSP  RSV \r\n",
        " 30   20  Open:Active       -    -    -    -   940   707   227     0     0    6\r\n",
        "\r\n",
        "DEFAULT LIMITS:\r\n",
        " RUNLIMIT                \r\n",
        " 2880.0 min of sctapps.esc.rl.ac.uk\r\n",
        "\r\n",
        "MAXIMUM LIMITS:\r\n",
        " RUNLIMIT                \r\n",
        " 10080.0 min of sctapps.esc.rl.ac.uk\r\n",
        "\r\n",
        "SCHEDULING PARAMETERS\r\n",
        "           r15s   r1m  r15m   ut      pg    io   ls    it    tmp    swp    mem\r\n",
        " loadSched   -     -     -     -       -     -    -     -     -      -      -  \r\n",
        " loadStop    -     -     -     -       -     -    -     -     -      -      -  \r\n",
        "\r\n",
        "          testing   ngpus \r\n",
        " loadSched     -       -  \r\n",
        " loadStop      -       -  \r\n",
        "\r\n",
        "SCHEDULING POLICIES:  FAIRSHARE  BACKFILL  EXCLUSIVE\r\n",
        "USER_SHARES:  [emerald_training, 10000] [emerald_oxford, 209] [emerald_bristol, 209] [emerald_soton, 209] [emerald_ucl, 209] [emerald_stfc, 91] [emerald_external, 73] \r\n",
        "\r\n",
        "SHARE_INFO_FOR: emerald/\r\n",
        " USER/GROUP   SHARES  PRIORITY  STARTED  RESERVED  CPU_TIME  RUN_TIME   ADJUST\r\n",
        "emerald_training 10000    3333.333      0        0         0.0        0       0.000\r\n",
        "emerald_ucl   209      69.667      0        0         0.0        0       0.000\r\n",
        "emerald_stfc    91      30.333      0        0         0.0        0       0.000\r\n",
        "emerald_external    73      24.333      0        0         0.0        0       0.000\r\n",
        "emerald_oxford   209       0.247     11        0   2524187.2  1648184       0.000\r\n",
        "emerald_bristol   209       0.098    108        0   6007337.5  3251463       0.000\r\n",
        "emerald_soton   209       0.044    108        6  14829841.0  8013086       0.000\r\n",
        "\r\n",
        "HIST_HOURS: 360.000000\r\n",
        "\r\n",
        "USERS: emerald_oxford/ emerald_ucl/ emerald_bristol/ emerald_soton/ emerald_stfc/ emerald_training/ emerald_external/   \r\n",
        "HOSTS:  gpu12_hosts/ \r\n",
        "RES_REQ:  same[ nodetype ] select[testing==0] order[-r15s:pg]\r\n",
        "Maximum slot reservation time: 604800 seconds\r\n",
        "JOB_STARTER:  /apps/lsf8/conf/jobstarter.sh\r\n",
        "\r\n"
       ]
      }
     ],
     "prompt_number": 14
    },
    {
     "cell_type": "code",
     "collapsed": false,
     "input": [],
     "language": "python",
     "metadata": {},
     "outputs": [],
     "prompt_number": 14
    }
   ],
   "metadata": {}
  }
 ]
}