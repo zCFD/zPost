{
 "cells": [
  {
   "cell_type": "markdown",
   "metadata": {},
   "source": [
    "# Zero Pressure Gradient Flat Plate\n",
    "\n",
    "![plate](http://turbmodels.larc.nasa.gov/FlatPlate/Grids/plateBCpic.jpg)\n",
    "    \n",
    "#### References\n",
    "    \n",
    "http://turbmodels.larc.nasa.gov/flatplate.html"
   ]
  },
  {
   "cell_type": "markdown",
   "metadata": {},
   "source": [
    "## Define case name\n",
    "This is the solver case to be analysed"
   ]
  },
  {
   "cell_type": "code",
   "execution_count": 11,
   "metadata": {
    "collapsed": false
   },
   "outputs": [
    {
     "name": "stdout",
     "output_type": "stream",
     "text": [
      "--------------------------------------------------------------------------\n",
      "[dstandingford@login02] out: mpiexec noticed that process rank 1 with PID 13661 on node login02 exited on signal 11 (Segmentation fault).\n",
      "[dstandingford@login02] out: --------------------------------------------------------------------------\n",
      "[dstandingford@login02] out: \n",
      "\n"
     ]
    },
    {
     "name": "stderr",
     "output_type": "stream",
     "text": [
      "\n",
      "Fatal error: run() received nonzero return code 139 while executing!\n",
      "\n",
      "Requested: sleep 2;mpiexec -n 4 pvserver -rc --client-host=localhost -sp=12002\n",
      "Executed: /bin/bash -l -c \"cd /gpfs/thirdparty/zenotech/home/dstandingford/VALIDATION/PLATE && sleep 2;mpiexec -n 4 pvserver -rc --client-host=localhost -sp=12002\"\n",
      "\n",
      "None\n",
      "\n",
      "\n",
      "Aborting.\n",
      "run() received nonzero return code 139 while executing!\n",
      "\n",
      "Requested: sleep 2;mpiexec -n 4 pvserver -rc --client-host=localhost -sp=12002\n",
      "Executed: /bin/bash -l -c \"cd /gpfs/thirdparty/zenotech/home/dstandingford/VALIDATION/PLATE && sleep 2;mpiexec -n 4 pvserver -rc --client-host=localhost -sp=12002\"\n",
      "\n",
      "None\n",
      "\n"
     ]
    }
   ],
   "source": [
    "from collections import OrderedDict\n",
    "case_dict = OrderedDict((   ('plate_medium',{ 'label' : '(68x48 cells)','face_area':0.075823,}),\n",
    "                            ('plate_medium_f20',{'label' : '(68x48 cells)','face_area':0.075823,}),\n",
    "                            ('plate_medium_f50',{'label' : '(68x48 cells)','face_area':0.075823,}),\n",
    "                            ('plate_medium_f100',{'label' : '(68x48 cells)','face_area':0.075823,}),\n",
    "                            ('plate_medium_f300',{'label' : '(68x48 cells)','face_area':0.075823,}),\n",
    "                            ('plate_fine',{'label' : '(544x384 cells)','face_area':0.075823/8.0,})\n",
    "                        ))"
   ]
  },
  {
   "cell_type": "markdown",
   "metadata": {},
   "source": [
    "## Define Data Location\n",
    "For remote data the interaction will use ssh to securely interact with the data<br/>\n",
    "This uses the reverse connection capability in paraview so that the paraview server can be submitted to a job scheduler<br/>\n",
    "Note: The default paraview server connection will use port 11111"
   ]
  },
  {
   "cell_type": "code",
   "execution_count": 12,
   "metadata": {
    "collapsed": false
   },
   "outputs": [
    {
     "data": {
      "text/html": [
       "\n",
       "    <div style=\"background-color:gainsboro; border:solid black; width:640px; padding:20px;\">\n",
       "    <label style=\"width:22%;display:inline-block\">Remote Data</label><input type=\"checkbox\" id=\"remote_data\" value=\"remote\" checked=\"checked\"><br>\n",
       "    <label style=\"width:22%;display:inline-block\">Data Directory</label> <input style=\"width:75%;\" type=\"text\" id=\"data_dir\" value=\"/gpfs/thirdparty/zenotech/home/dstandingford/VALIDATION/PLATE\"><br>\n",
       "    <label style=\"width:22%;display:inline-block\">Data Host</label> <input style=\"width:75%;\" type=\"text\" id=\"data_host\" value=\"dstandingford@login02\"><br>\n",
       "    <label style=\"width:22%;display:inline-block\">Remote Server Auto</label> <input type=\"checkbox\" id=\"remote_server_auto\" value=\"remote_auto\" checked=\"checked\"><br>\n",
       "    <label style=\"width:22%;display:inline-block\">Paraview Cmd </label><input style=\"width:75%;\" type=\"text\" id=\"paraview_cmd\" value=\"mpiexec -n 4 pvserver\"><br>\n",
       "    <button onclick=\"apply()\">Apply</button>\n",
       "    </div>\n",
       "    \n",
       "    <script type=\"text/Javascript\">\n",
       "        function apply(){\n",
       "            var remote_data = ($('input#remote_data').is(':checked') ? 'True' : 'False');\n",
       "            var data_dir = $('input#data_dir').val();\n",
       "            var data_host = $('input#data_host').val();\n",
       "            var remote_server_auto = ($('input#remote_server_auto').is(':checked') ? 'True' : 'False');\n",
       "            var paraview_cmd = $('input#paraview_cmd').val();\n",
       "\n",
       "            var kernel = IPython.notebook.kernel;\n",
       "\n",
       "            var  command = \"from zutil import post; post.data_dir = '\" + data_dir + \"'\";\n",
       "            console.log(\"Executing Command: \" + command);\n",
       "            kernel.execute(command);\n",
       "            \n",
       "            var  command = \"from zutil import post; post.data_host = '\" + data_host + \"'\";\n",
       "            console.log(\"Executing Command: \" + command);\n",
       "            kernel.execute(command);\n",
       "            \n",
       "            var  command = \"from zutil import post; post.remote_server_auto = \" + remote_server_auto;\n",
       "            console.log(\"Executing Command: \" + command);\n",
       "            kernel.execute(command);\n",
       "\n",
       "            var  command = \"from zutil import post; post.paraview_cmd = '\" + paraview_cmd + \"'\";\n",
       "            console.log(\"Executing Command: \" + command);\n",
       "            kernel.execute(command);\n",
       "            \n",
       "            var  command = \"from zutil import post; post.remote_data = \" + remote_data ;\n",
       "            console.log(\"Executing Command: \" + command);\n",
       "            kernel.execute(command);\n",
       "            \n",
       "            var command = \"from zutil import post; if not post.remote_server_auto: post.paraview_cmd=None\"\n",
       "            console.log(\"Executing Command: \" + command);\n",
       "            kernel.execute(command);\n",
       "\n",
       "            var command = \"from zutil import post; if not post.post.remote_data: post.data_host='localhost'; post.paraview_cmd=None\"\n",
       "            console.log(\"Executing Command: \" + command);\n",
       "            kernel.execute(command);\n",
       "           \n",
       "        }\n",
       "    </script>\n",
       "    "
      ],
      "text/plain": [
       "<IPython.core.display.HTML object>"
      ]
     },
     "execution_count": 12,
     "metadata": {},
     "output_type": "execute_result"
    }
   ],
   "source": [
    "# from zutil.post import data_location_form_html\n",
    "# data_location_form_html()\n",
    "\n",
    "pvcluster_connect(data_host=data_host,data_dir=data_dir,paraview_cmd=paraview_cmd,job_queue=your_job_queue,\n",
    "job_ntasks=your_number_of_mpi_tasks,job_ntaskpernode=your_number_of_tasks_per_node,job_project=your_job_project)"
   ]
  },
  {
   "cell_type": "markdown",
   "metadata": {},
   "source": [
    "### Initialise Environment"
   ]
  },
  {
   "cell_type": "code",
   "execution_count": null,
   "metadata": {
    "collapsed": false
   },
   "outputs": [
    {
     "name": "stdout",
     "output_type": "stream",
     "text": [
      "Populating the interactive namespace from numpy and matplotlib\n"
     ]
    },
    {
     "name": "stderr",
     "output_type": "stream",
     "text": [
      "WARNING: pylab import has clobbered these variables: ['Text', 'Arrow', 'Axes']\n",
      "`%matplotlib` prevents importing * from pylab and numpy\n"
     ]
    }
   ],
   "source": [
    "%pylab inline\n",
    "from paraview.simple import *\n",
    "paraview.simple._DisableFirstRenderCameraReset()\n",
    "import pylab as pl\n",
    "import math\n",
    "import numpy as np"
   ]
  },
  {
   "cell_type": "markdown",
   "metadata": {},
   "source": [
    "### Data Connection\n",
    "This starts paraview server on remote host and connects"
   ]
  },
  {
   "cell_type": "code",
   "execution_count": null,
   "metadata": {
    "collapsed": false
   },
   "outputs": [
    {
     "name": "stdout",
     "output_type": "stream",
     "text": [
      "Testing passwordless ssh access\n"
     ]
    }
   ],
   "source": [
    "from zutil.post import pvserver_connect\n",
    "from zutil import post\n",
    "if post.remote_data:\n",
    "    pvserver_connect()\n",
    "print 'Complete'"
   ]
  },
  {
   "cell_type": "markdown",
   "metadata": {},
   "source": [
    "Get control dictionary"
   ]
  },
  {
   "cell_type": "code",
   "execution_count": null,
   "metadata": {
    "collapsed": false
   },
   "outputs": [],
   "source": [
    "from zutil.post import get_case_parameters,print_html_parameters\n",
    "parameters={}\n",
    "for case_name in case_dict:\n",
    "    parameters[case_name] = get_case_parameters(case_name)\n",
    "print 'Complete'"
   ]
  },
  {
   "cell_type": "markdown",
   "metadata": {},
   "source": [
    "Get status file"
   ]
  },
  {
   "cell_type": "code",
   "execution_count": null,
   "metadata": {
    "collapsed": false
   },
   "outputs": [],
   "source": [
    "from zutil.post import get_status_dict\n",
    "status=get_status_dict(case_name)\n",
    "num_procs = str(status['num processor'])\n",
    "print 'Complete'"
   ]
  },
  {
   "cell_type": "markdown",
   "metadata": {},
   "source": [
    "### Define test conditions"
   ]
  },
  {
   "cell_type": "code",
   "execution_count": null,
   "metadata": {
    "collapsed": false
   },
   "outputs": [],
   "source": [
    "from IPython.display import HTML\n",
    "for case_name in case_dict:\n",
    "    HTML(print_html_parameters(parameters[case_name]))"
   ]
  },
  {
   "cell_type": "code",
   "execution_count": null,
   "metadata": {
    "collapsed": false
   },
   "outputs": [],
   "source": [
    "# Analysis constants\n",
    "reference_area = 2.0\n",
    "bl_position = 0.97"
   ]
  },
  {
   "cell_type": "markdown",
   "metadata": {},
   "source": [
    "### Plotting functions"
   ]
  },
  {
   "cell_type": "code",
   "execution_count": null,
   "metadata": {
    "collapsed": false
   },
   "outputs": [],
   "source": [
    "from zutil.post import get_case_root, get_case_report\n",
    "from zutil.post import get_csv_data,get_fw_csv_data\n",
    "from zutil.post import for_each\n",
    "def plot_theory(ax, filename):\n",
    "    df = get_fw_csv_data(filename,widths=[16,16,16,16,16])\n",
    "    ax.plot(df[1], df[0], color='grey', label='$u^{+}=y^{+}$')    \n",
    "    ax.plot(df[2], df[0], color='grey', label='Log law')    \n",
    "\n",
    "def plot_comparison(ax,filename):\n",
    "    df = get_fw_csv_data(filename,widths=[16,14],skiprows=2)    \n",
    "    ax.plot(df[0], df[1], color='red', label='CFL3D (545x385 points)')    \n",
    "    \n",
    "def velocity_plot(data,pts,**kwargs):\n",
    "    ax = kwargs['axis']\n",
    "    chart_label = kwargs['chart_label']\n",
    "    ax.plot(data.GetPointData()['vprof'], pts.GetPoints()[:,2], label=chart_label)    \n",
    "\n",
    "def plot_velocity_profile(ax,file_root,label,face_area):\n",
    "    wall = PVDReader( FileName=file_root+'_wall.pvd' )\n",
    "    \n",
    "    print file_root+'_wall.pvd'\n",
    "    \n",
    "    drag = MinMax(Input=wall)\n",
    "    drag.Operation = \"SUM\"\n",
    "\n",
    "    drag.UpdatePipeline()\n",
    "    \n",
    "    drag_client = servermanager.Fetch(drag)\n",
    "    cd = drag_client.GetCellData().GetArray(\"frictionforce\").GetValue(0)\n",
    "    \n",
    "    wall_slice = Slice(Input=wall, SliceType=\"Plane\" )\n",
    "    \n",
    "    wall_slice.SliceType.Normal = [1.0,0.0,0.0]\n",
    "    wall_slice.SliceType.Origin = [bl_position, 0.0, 0.0]\n",
    "    \n",
    "    wall_slice.UpdatePipeline()\n",
    "    \n",
    "    wall_slice_client = servermanager.Fetch(wall_slice)\n",
    "    nu = wall_slice_client.GetCellData().GetArray(\"nu\").GetValue(0)\n",
    "    utau = wall_slice_client.GetCellData().GetArray(\"ut\").GetValue(0)\n",
    "    yplus = wall_slice_client.GetCellData().GetArray(\"yplus\").GetValue(0)\n",
    "    cf    = wall_slice_client.GetCellData().GetArray(\"frictionforce\").GetValue(0)\n",
    "    wall_vel = wall_slice_client.GetCellData().GetArray(\"V\").GetValue(0)\n",
    "    \n",
    "    wall_vel = 0.0\n",
    "\n",
    "    symmetry = PVDReader( FileName=file_root+'_symmetry.pvd' )\n",
    "    \n",
    "    CellDatatoPointData1 = CellDatatoPointData(Input=symmetry)\n",
    "    CellDatatoPointData1.PassCellData = 1\n",
    "    \n",
    "    # Removes second symmetry plane keeping y max\n",
    "    Clip1 = Clip(Input=CellDatatoPointData1, ClipType=\"Plane\" )\n",
    "    Clip1.ClipType.Normal = [0.0,1.0,0.0]\n",
    "    Clip1.ClipType.Origin = [0.0, -0.5, 0.0]\n",
    "    \n",
    "    Clip2 = Clip(Input=Clip1, ClipType=\"Plane\" )\n",
    "    Clip2.ClipType.Normal = [0.0,0.0,1.0]\n",
    "    Clip2.ClipType.Origin = [0.0, 0.0, 0.05]\n",
    "    Clip2.InsideOut = 1\n",
    "    \n",
    "    Slice1 = Slice(Input=Clip2, SliceType=\"Plane\" )\n",
    "    \n",
    "    Slice1.SliceType.Normal = [1.0,0.0,0.0]\n",
    "    Slice1.SliceType.Origin = [bl_position, 0.0, 0.0]\n",
    "        \n",
    "    Calculator2 = Calculator(Input=Slice1)\n",
    "    \n",
    "    Calculator2.AttributeMode = 'Point Data'\n",
    "    Calculator2.Function = '(V.iHat - '+ str(wall_vel) +')'\n",
    "    Calculator2.ResultArrayName = 'vprof'\n",
    "    \n",
    "    Calculator2.UpdatePipeline()\n",
    "    \n",
    "    sorted_line = PlotOnSortedLines(Input=Calculator2)\n",
    "    sorted_line.UpdatePipeline()\n",
    "    extract_client = servermanager.Fetch(sorted_line) \n",
    "\n",
    "    chart_label = '$y^{+}=' + ('%.2f$')%(yplus) + (' $C_d=%.6f$' % (cd/reference_area)) + (' $C_f=%.5f$' % (cf/face_area)) + ' ' + label\n",
    "\n",
    "    for_each(extract_client,velocity_plot,axis=ax,chart_label=chart_label)\n",
    "    \n",
    "def bl_plot(data,pts,**kwargs):\n",
    "    ax = kwargs['axis']\n",
    "    chart_label = kwargs['chart_label']\n",
    "    ax.plot(data.GetPointData()['yp'][1:], data.GetPointData()['up'][1:], label=chart_label)    \n",
    "\n",
    "def plot_profile(ax,file_root,label):\n",
    "    wall = PVDReader( FileName=file_root+'_wall.pvd' )\n",
    "    \n",
    "    wall_slice = Slice(Input=wall, SliceType=\"Plane\" )\n",
    "    \n",
    "    wall_slice.SliceType.Normal = [1.0,0.0,0.0]\n",
    "    wall_slice.SliceType.Origin = [bl_position, 0.0, 0.0]\n",
    "    \n",
    "    wall_slice.UpdatePipeline()\n",
    "    \n",
    "    wall_slice_client = servermanager.Fetch(wall_slice)\n",
    "    nu = wall_slice_client.GetCellData().GetArray(\"nu\").GetValue(0)\n",
    "    #nu = 1.4e-5\n",
    "    utau = wall_slice_client.GetCellData().GetArray(\"ut\").GetValue(0)\n",
    "    yplus = wall_slice_client.GetCellData().GetArray(\"yplus\").GetValue(0)\n",
    "    #roughness = wall_slice_client.GetCellData().GetArray(\"roughness\").GetValue(0)\n",
    "    #kplus = roughness*utau/nu\n",
    "    \n",
    "    t = wall_slice_client.GetCellData().GetArray(\"T\").GetValue(0)\n",
    "    p = wall_slice_client.GetCellData().GetArray(\"p\").GetValue(0)\n",
    "    rho = wall_slice_client.GetCellData().GetArray(\"rho\").GetValue(0)\n",
    "    \n",
    "    wall_vel = wall_slice_client.GetCellData().GetArray(\"V\").GetValue(0)\n",
    "    \n",
    "    symmetry = PVDReader( FileName=file_root+'_symmetry.pvd' )\n",
    "    \n",
    "    CellDatatoPointData1 = CellDatatoPointData(Input=symmetry)\n",
    "    CellDatatoPointData1.PassCellData = 1\n",
    "    \n",
    "    # Removes second symmetry plane keeping y max\n",
    "    Clip1 = Clip(Input=CellDatatoPointData1, ClipType=\"Plane\" )\n",
    "    Clip1.ClipType.Normal = [0.0,1.0,0.0]\n",
    "    Clip1.ClipType.Origin = [0.0, -0.5, 0.0]\n",
    "    \n",
    "    Clip2 = Clip(Input=Clip1, ClipType=\"Plane\" )\n",
    "    Clip2.ClipType.Normal = [0.0,0.0,1.0]\n",
    "    Clip2.ClipType.Origin = [0.0, 0.0, 0.05]\n",
    "    Clip2.InsideOut = 1\n",
    "    \n",
    "    Slice1 = Slice(Input=Clip2, SliceType=\"Plane\" )\n",
    "    \n",
    "    Slice1.SliceType.Normal = [1.0,0.0,0.0]\n",
    "    Slice1.SliceType.Origin = [bl_position, 0.0, 0.0]\n",
    "    \n",
    "    Calculator1 = Calculator(Input=Slice1)\n",
    "    \n",
    "    #Calculator1.AttributeMode = 'point_data'\n",
    "    Calculator1.AttributeMode = 'Point Data'\n",
    "    Calculator1.Function = 'log10(coords.kHat * '+str(utau)+'/'+str(nu)+')'\n",
    "    Calculator1.ResultArrayName = 'yp'\n",
    "    \n",
    "    Calculator2 = Calculator(Input=Calculator1)\n",
    "    \n",
    "    #Calculator2.AttributeMode = 'point_data'\n",
    "    Calculator2.AttributeMode = 'Point Data'\n",
    "    Calculator2.Function = '(V.iHat - '+ str(wall_vel) +')/ '+str(utau)\n",
    "    Calculator2.ResultArrayName = 'up'\n",
    "    \n",
    "    Calculator2.UpdatePipeline()\n",
    "    \n",
    "    sorted_line = PlotOnSortedLines(Input=Calculator2)\n",
    "    sorted_line.UpdatePipeline()\n",
    "    extract_client = servermanager.Fetch(sorted_line) \n",
    "\n",
    "    chart_label = '$y^{+}='+('%.2f$')%(yplus)+' '+'$u_t='+('%.2f$')%(utau) + ' '+label\n",
    "\n",
    "    for_each(extract_client,bl_plot,axis=ax,chart_label=chart_label)\n"
   ]
  },
  {
   "cell_type": "markdown",
   "metadata": {},
   "source": [
    "## Plot Boundary Layer Profile"
   ]
  },
  {
   "cell_type": "code",
   "execution_count": null,
   "metadata": {
    "collapsed": false
   },
   "outputs": [],
   "source": [
    "from zutil.post import ProgressBar\n",
    "pbar = ProgressBar()\n",
    "fig = figure(figsize=(25, 10),dpi=100, facecolor='w', edgecolor='#E48B25')\n",
    "\n",
    "ax = fig.add_subplot(1,2,1)\n",
    "ax.grid(True)\n",
    "ax.set_xlabel('$\\mathbf{\\log(y^{+})}$', fontsize=24, fontweight='bold', color = '#5D5858')\n",
    "ax.set_ylabel('$\\mathbf{u^{+}}$', fontsize=24, fontweight='bold', color = '#5D5858')\n",
    "ax.set_title('Zero Pressure Gradient Flat Plate \\n', fontsize=20, fontweight='normal', color = '#E48B25')\n",
    "ax.axis([0,5,0,30])\n",
    "\n",
    "for tick in ax.xaxis.get_major_ticks():\n",
    "    tick.label.set_fontsize(18) \n",
    "    tick.label.set_fontweight('normal') \n",
    "    tick.label.set_color('#E48B25')\n",
    "for tick in ax.yaxis.get_major_ticks():\n",
    "    tick.label.set_fontsize(18)\n",
    "    tick.label.set_fontweight('normal') \n",
    "    tick.label.set_color('#E48B25')\n",
    "    \n",
    "plot_theory(ax,'data/u+y+theory.csv');\n",
    "pbar+=5\n",
    "plot_comparison(ax,'data/flatplate_u+y+_sst.dat');\n",
    "pbar+=5\n",
    "for case in case_dict:\n",
    "    case_name = case\n",
    "    label = case_dict[case]['label']\n",
    "    plot_profile(ax,get_case_root(case_name,str(num_procs)),label)\n",
    "    pbar+=5\n",
    "# Draw legend\n",
    "ax.legend(loc='lower right', shadow=True)\n",
    "pbar+=5\n",
    "# Create \n",
    "ax = fig.add_subplot(1,2,2)\n",
    "ax.grid(True)\n",
    "ax.set_xlabel('speed [m/s]', fontsize=16, fontweight='bold')\n",
    "ax.set_ylabel('z', fontsize=16, fontweight='bold')\n",
    "ax.set_title('Zero Pressure Gradient Flat Plate', fontsize=20, fontweight='bold')\n",
    "#plot_comparison(ax,'data/flatplate_u_sst.dat');\n",
    "#ax.axis([0,70,0,0.05])\n",
    "pbar+=5\n",
    "for case in case_dict:\n",
    "    case_name = case\n",
    "    label = case_dict[case]['label']\n",
    "    plot_velocity_profile(ax,get_case_root(case_name,str(num_procs)),label,case_dict[case]['face_area'])\n",
    "    pbar+=5\n",
    "# Draw legend\n",
    "ax.legend(loc='upper right', shadow=True)\n",
    "\n",
    "fig.savefig(\"images/flat_plate_bl_profile.pdf\")\n",
    "pbar.complete()\n",
    "show()\n",
    "from IPython.display import FileLink, display \n",
    "display(FileLink('images/flat_plate_bl_profile.pdf')) "
   ]
  },
  {
   "cell_type": "markdown",
   "metadata": {},
   "source": [
    "## Mesh Convergence"
   ]
  },
  {
   "cell_type": "code",
   "execution_count": null,
   "metadata": {
    "collapsed": false
   },
   "outputs": [],
   "source": [
    "pbar = ProgressBar()\n",
    "fig = figure(figsize=(10, 10),dpi=100, facecolor='w', edgecolor='k')\n",
    "ax = fig.add_subplot(1,1,1)\n",
    "ax.grid(True)\n",
    "ax.set_xlabel('$h=(1/N)^{1/2}$')\n",
    "ax.set_ylabel('$C_f$ at $x=0.97$')\n",
    "ax.set_title('Zero Pressure Gradient Flat Plate', fontsize=20, fontweight='bold')\n",
    "df = get_fw_csv_data('data/cf_convergence_sst_fun3d.dat',widths=[8,13,12,21],skiprows=3) \n",
    "pbar+=25\n",
    "ax.plot(df[2], df[3], color='red', marker='o',label='FUN3D')    \n",
    "df = get_fw_csv_data('data/cf_convergence_sst_cfl3d.dat',widths=[8,13,12,21],skiprows=3) \n",
    "pbar+=25\n",
    "ax.plot(df[2], df[3], color='blue', marker='o',label='CFL3D') \n",
    "df=[[1.75035e-2,2.18794e-3],[0.00261,0.00285]]\n",
    "ax.plot(df[0], df[1], color='green', marker='o',label='zCFD')    \n",
    "ax.legend(loc='upper right', shadow=True)\n",
    "\n",
    "fig.savefig(\"images/flat_plate_mesh_conv_profile.pdf\")\n",
    "pbar.complete()\n",
    "show()\n",
    "\n",
    "from IPython.display import FileLink, display \n",
    "display(FileLink('images/flat_plate_mesh_conv_profile.pdf')) "
   ]
  },
  {
   "cell_type": "markdown",
   "metadata": {},
   "source": [
    "## Convergence"
   ]
  },
  {
   "cell_type": "code",
   "execution_count": null,
   "metadata": {
    "collapsed": false
   },
   "outputs": [],
   "source": [
    "from zutil.post import residual_plot, get_case_report\n",
    "for case_name in case_dict:\n",
    "    residual_plot(get_case_report(case_name))\n",
    "show()"
   ]
  },
  {
   "cell_type": "markdown",
   "metadata": {},
   "source": [
    "### Cleaning up"
   ]
  },
  {
   "cell_type": "code",
   "execution_count": null,
   "metadata": {
    "collapsed": false
   },
   "outputs": [],
   "source": [
    "if post.remote_data:\n",
    "    #print 'Disconnecting from remote paraview server connection'\n",
    "    #Disconnect()\n",
    "    pass"
   ]
  },
  {
   "cell_type": "markdown",
   "metadata": {},
   "source": [
    "<script type=\"text/javascript\">\n",
    "     show=true;\n",
    "     function toggle(){\n",
    "        if (show){\n",
    "             $('div.input').hide();\n",
    "         }else{\n",
    "             $('div.input').show();\n",
    "         }\n",
    "         show = !show\n",
    "     }\n",
    "</script>\n",
    "<a href=\"javascript:toggle()\" target=\"_self\">toggle input</a>"
   ]
  }
 ],
 "metadata": {
  "kernelspec": {
   "display_name": "Python 2",
   "language": "python",
   "name": "python2"
  },
  "language_info": {
   "codemirror_mode": {
    "name": "ipython",
    "version": 2
   },
   "file_extension": ".py",
   "mimetype": "text/x-python",
   "name": "python",
   "nbconvert_exporter": "python",
   "pygments_lexer": "ipython2",
   "version": "2.7.9"
  }
 },
 "nbformat": 4,
 "nbformat_minor": 0
}
