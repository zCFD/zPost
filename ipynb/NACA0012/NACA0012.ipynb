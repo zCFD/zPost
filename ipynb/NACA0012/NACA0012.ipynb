{
 "metadata": {
  "name": "",
  "signature": "sha256:2d5b033d0bc7f0243be712a3a09d829fcb3fb46ef39d1512acb0c9b3c43d4755"
 },
 "nbformat": 3,
 "nbformat_minor": 0,
 "worksheets": [
  {
   "cells": [
    {
     "cell_type": "markdown",
     "metadata": {},
     "source": [
      "## NACA0012 Testcase\n",
      "\n",
      "![naca](http://turbmodels.larc.nasa.gov/NACA0012_grids/grid_bcs.jpg)\n",
      "\n",
      "#### References\n",
      "\n",
      "<a href=http://turbmodels.larc.nasa.gov/naca0012_val.html>NASA</a><br/>\n"
     ]
    },
    {
     "cell_type": "code",
     "collapsed": false,
     "input": [
      "# Names of cases\n",
      "case_dict = { 'n0012_897_a0p0' : { 'alpha' : 0.0,\n",
      "                                   'cp max': 1.2,\n",
      "                                   'cp min' : -0.6,\n",
      "                                   'cf max' : 0.01,\n",
      "                                   'cf min' : 0.0,\n",
      "                                   'cp expt' : 'CP_Gregory_expdata_a0p0.csv',\n",
      "                                   'cp comp' : 'n0012cp_cfl3d_sstv_a0p0.dat',\n",
      "                                   'cf comp' : 'n0012cf_cfl3d_sstv_a0p0.dat',\n",
      "                                   'cl comp' : 0.0,\n",
      "                                   'cd comp' : 0.00828,\n",
      "                                  },\n",
      "             'n0012_897_a10p0' : { 'alpha' : 10.0,\n",
      "                                   'cp max': 2.0,\n",
      "                                   'cp min' : -6.0,\n",
      "                                   'cf max' : 0.04,\n",
      "                                   'cf min' : -0.005,\n",
      "                                   'cp expt' : 'CP_Gregory_expdata_a10p0.csv',\n",
      "                                   'cp comp' : 'n0012cp_cfl3d_sstv_a10p0.dat',\n",
      "                                   'cf comp' : 'n0012cf_cfl3d_sstv_a10p0.dat',\n",
      "                                   'cl comp' : 1.0778,\n",
      "                                   'cd comp' : 0.01245,\n",
      "                                  },            \n",
      "             'n0012_897_a15p0' : { 'alpha' : 15.0,\n",
      "                                   'cp max': 2.0,\n",
      "                                   'cp min' : -12.0,\n",
      "                                   'cf max' : 0.06,\n",
      "                                   'cf min' : -0.005,\n",
      "                                   'cp expt' : 'CP_Gregory_expdata_a15p0.csv',\n",
      "                                   'cp comp' : 'n0012cp_cfl3d_sstv_a15p0.dat',\n",
      "                                   'cf comp' : 'n0012cf_cfl3d_sstv_a15p0.dat',\n",
      "                                   'cl comp' : 1.5060,\n",
      "                                   'cd comp' : 0.02224,\n",
      "                                  },\n",
      "}"
     ],
     "language": "python",
     "metadata": {},
     "outputs": []
    },
    {
     "cell_type": "markdown",
     "metadata": {},
     "source": [
      "## Define Data Location"
     ]
    },
    {
     "cell_type": "code",
     "collapsed": false,
     "input": [
      "remote_data = True\n",
      "\n",
      "data_dir='/gpfs/cfms/workarea/JA/NACA0012'\n",
      "data_host='jappa@asrc2'\n",
      "\n",
      "remote_server_auto = True\n",
      "\n",
      "paraview_cmd='mpiexec ~/apps/Paraview/bin/pvserver -rc --client-host=localhost -sp=11113'\n",
      "if not remote_server_auto:\n",
      "    paraview_cmd=None\n",
      "\n",
      "if not remote_data:\n",
      "    data_host='localhost'\n",
      "    paraview_cmd=None"
     ],
     "language": "python",
     "metadata": {},
     "outputs": []
    },
    {
     "cell_type": "markdown",
     "metadata": {},
     "source": [
      "### Initialise Environment"
     ]
    },
    {
     "cell_type": "code",
     "collapsed": false,
     "input": [
      "%pylab inline\n",
      "from paraview.simple import *\n",
      "paraview.simple._DisableFirstRenderCameraReset()\n",
      "import math"
     ],
     "language": "python",
     "metadata": {},
     "outputs": []
    },
    {
     "cell_type": "markdown",
     "metadata": {},
     "source": [
      "### Remote Data Connection\n",
      "This starts paraview server on remote host and connects"
     ]
    },
    {
     "cell_type": "code",
     "collapsed": false,
     "input": [
      "from zutil.post import pvserver_connect\n",
      "if remote_data:\n",
      "    pvserver_connect(data_host=data_host,data_dir=data_dir,paraview_cmd=paraview_cmd)"
     ],
     "language": "python",
     "metadata": {},
     "outputs": []
    },
    {
     "cell_type": "markdown",
     "metadata": {},
     "source": [
      "### Plot forces functions"
     ]
    },
    {
     "cell_type": "code",
     "collapsed": false,
     "input": [
      "from zutil.post import cp_profile\n",
      "from zutil.post import cf_profile\n",
      "from zutil.post import get_fw_csv_data\n",
      "from zutil.post import get_case_root, get_case_report\n",
      "from zutil.post import get_csv_data\n",
      "\n",
      "def plot_theory(ax, filename):\n",
      "    df = get_csv_data(filename)\n",
      "    ax.scatter(df[0], df[1], color='grey', label='Gregory Re=3m free transition')    \n",
      "\n",
      "def get_cl_alpha(filename):\n",
      "    return get_fw_csv_data(filename,widths=[16,16])\n",
      "def cp_plot(data,pts,**kwargs):\n",
      "    ax = kwargs['axis']\n",
      "    ax.plot(data.GetPointData()['chord'], data.GetPointData()['cp'], color='b', label=kwargs['chart_label'])\n",
      "\n",
      "def cf_plot(data,pts,**kwargs):\n",
      "    ax = kwargs['axis']\n",
      "    ax.plot(data.GetPointData()['chord'], data.GetPointData()['cfmag'], color='b', label=kwargs['chart_label']) \n",
      "\n",
      "def plot_cp_profile(ax,label,file_root,alpha,beta):\n",
      "    wall = PVDReader( FileName=file_root+'_wall.pvd' )\n",
      "    chart_label = label+' Re=6m fully turbulent'\n",
      "    force_data = cp_profile(wall,[0.0,1.0,0.0],[0.0, -0.5, 0.0],\n",
      "                            axis=ax,alpha=alpha,beta=beta,func=cp_plot,chart_label=chart_label)\n",
      "    pforce = force_data['pressure force']\n",
      "    fforce = force_data['friction force']\n",
      "    ax.set_title(r'NACA0012 $\\mathbf{\\alpha='+ ('%.1f \\/' % alpha) + ('C_d=%.4f\\/ C_l=%.4f}$' % (pforce[0]+fforce[0],pforce[2]+fforce[2])),\n",
      "                 fontsize=20, fontweight='bold')\n",
      "    return (pforce,fforce)\n",
      "\n",
      "def plot_cf_profile(ax,label,file_root,alpha,beta):\n",
      "    wall = PVDReader( FileName=file_root+'_wall.pvd' )\n",
      "    chart_label = label+' Re=6m fully turbulent'\n",
      "    force_data = cf_profile(wall,[0.0,1.0,0.0],[0.0, -0.5, 0.0],\n",
      "                            axis=ax,alpha=alpha,beta=beta,func=cf_plot,chart_label=chart_label)\n",
      "    pforce = force_data['pressure force']\n",
      "    fforce = force_data['friction force']\n",
      "    ax.set_title(r'NACA0012 $\\mathbf{\\alpha='+ ('%.1f \\/' % alpha) + ('C_d=%.4f\\/ C_l=%.4f}$' % (pforce[0]+fforce[0],pforce[2]+fforce[2])),\n",
      "                 fontsize=20, fontweight='bold')\n",
      "    return (pforce,fforce)"
     ],
     "language": "python",
     "metadata": {},
     "outputs": []
    },
    {
     "cell_type": "markdown",
     "metadata": {},
     "source": [
      "## Generate the plots"
     ]
    },
    {
     "cell_type": "code",
     "collapsed": false,
     "input": [
      "from zutil.post import get_num_procs\n",
      "fig = figure(figsize=(20, 20),dpi=100, facecolor='w', edgecolor='k')\n",
      "plot = 1\n",
      "angle = []\n",
      "cl = []\n",
      "cd = []\n",
      "\n",
      "# Analysis constants\n",
      "alpha = 0.0\n",
      "beta  = 0.0\n",
      "reference_area = 1.0\n",
      "\n",
      "for case in case_dict:\n",
      "    case_name = case\n",
      "    case_var = case_dict[case]\n",
      "    \n",
      "    num_procs = get_num_procs(case_name,data_host=data_host,data_dir=data_dir)\n",
      "    \n",
      "    ax = fig.add_subplot(len(case_dict),2,plot)\n",
      "    ax.grid(True)\n",
      "    ax.set_xlabel('x/c')\n",
      "    ax.set_ylabel(r'$C_p$')\n",
      "    ax.axis([0,1,case_var['cp max'],case_var['cp min']])\n",
      "    plot_theory(ax,'data/'+case_var['cp expt']);\n",
      "    alpha = case_var['alpha']\n",
      "    f = plot_cp_profile(ax,'zCFD ',get_case_root(case_name,str(num_procs)),alpha,beta)\n",
      "    data = get_cl_alpha('data/'+case_var['cp comp'])\n",
      "    ax.plot(data[0],data[1],color='g',label='CFL3D SST-V 897x257')\n",
      "    angle.append(alpha)\n",
      "    cl.append(f[0][2]+f[1][2])\n",
      "    cd.append(f[0][0]+f[1][0])\n",
      "    # Draw legend\n",
      "    ax.legend(loc='upper right', shadow=True)\n",
      "    plot+=1\n",
      "\n",
      "    ax = fig.add_subplot(len(case_dict),2,plot)\n",
      "    ax.grid(True)\n",
      "    ax.set_xlabel('x/c')\n",
      "    ax.set_ylabel(r'$C_f$')\n",
      "    ax.axis([0,1,case_var['cf min'],case_var['cf max']])\n",
      "    f = plot_cf_profile(ax,'zCFD ',get_case_root(case_name,str(num_procs)),alpha,beta)\n",
      "    data = get_fw_csv_data('data/'+case_var['cf comp'],widths=[27,27])\n",
      "    ax.plot(data[0],data[1],color='g',label='CFL3D SST-V 897x257')\n",
      "    # Draw legend\n",
      "    ax.legend(loc='upper right', shadow=True)\n",
      "    plot+=1    \n",
      "    \n",
      "from matplotlib.backends.backend_pdf import PdfPages\n",
      "pp = PdfPages('images/naca0012_cp_profile.pdf')\n",
      "pp.savefig()\n",
      "pp.close()\n",
      "fig.savefig(\"images/naca0012_cp_profile.png\")\n",
      "show()\n",
      "from IPython.display import FileLink, display \n",
      "display(FileLink('images/naca0012_cp_profile.png'))\n"
     ],
     "language": "python",
     "metadata": {},
     "outputs": []
    },
    {
     "cell_type": "markdown",
     "metadata": {},
     "source": [
      "## Compare $C_L$ $C_D$ curve"
     ]
    },
    {
     "cell_type": "code",
     "collapsed": false,
     "input": [
      "# Read Ladson data\n",
      "from zutil.post import get_fw_csv_data\n",
      "data = get_fw_csv_data('data/CLCD_Ladson_expdata.csv',widths=[7,7,7])\n",
      "cl_comp = []\n",
      "cd_comp = []\n",
      "for case in case_dict:\n",
      "    case_var = case_dict[case]\n",
      "    cl_comp.append(case_var['cl comp'])\n",
      "    cd_comp.append(case_var['cd comp'])\n",
      "\n",
      "fig = figure(figsize=(20, 10),dpi=100, facecolor='w', edgecolor='k')\n",
      "fig.suptitle(r'NACA0012 $C_L$ vs $C_D$', fontsize=20, fontweight='bold')\n",
      "ax = fig.add_subplot(1,2,1)\n",
      "ax.grid(True)\n",
      "ax.set_xlabel(r'$\\alpha$ [deg]')\n",
      "ax.set_ylabel(r'$C_l$')\n",
      "ax.axis([0,20,-0.2,1.8])\n",
      "ax.scatter(angle,cl, label='zCFD Re=6m fully turbulent')\n",
      "ax.scatter(angle,cl_comp,color='red',label='CFL3D SST-V 897x257')\n",
      "ax.scatter(data[0], data[1], color='grey', label='Ladson Re=6m fixed transition')  \n",
      "ax.legend(loc='lower right', shadow=True)\n",
      "\n",
      "ax = fig.add_subplot(1,2,2)\n",
      "ax.grid(True)\n",
      "ax.set_xlabel(r'$C_l$')\n",
      "ax.set_ylabel(r'$C_d$')\n",
      "ax.axis([0,2,0,0.05])\n",
      "ax.scatter(cl,cd,label='zCFD Re=6m fully turbulent')\n",
      "ax.scatter(cl_comp,cd_comp,color='red',label='CFL3D SST-V 897x257')\n",
      "ax.scatter(data[1], data[2], color='grey', label='Ladson Re=6m fixed transition')  \n",
      "# Draw legend\n",
      "ax.legend(loc='upper left', shadow=True)\n",
      "\n",
      "from matplotlib.backends.backend_pdf import PdfPages\n",
      "pp = PdfPages('images/naca0012_clcd.pdf')\n",
      "pp.savefig()\n",
      "pp.close()\n",
      "fig.savefig(\"images/naca0012_clcd.png\")\n",
      "show()\n",
      "from IPython.display import FileLink, display \n",
      "display(FileLink('images/naca0012_clcd.png'))"
     ],
     "language": "python",
     "metadata": {},
     "outputs": []
    },
    {
     "cell_type": "markdown",
     "metadata": {},
     "source": [
      "## Convergence History"
     ]
    },
    {
     "cell_type": "code",
     "collapsed": false,
     "input": [
      "from zutil.post import residual_plot\n",
      "for case in case_dict:\n",
      "    residual_plot(get_case_report(case))\n",
      "show()"
     ],
     "language": "python",
     "metadata": {},
     "outputs": []
    },
    {
     "cell_type": "markdown",
     "metadata": {},
     "source": [
      "## Cleaning up"
     ]
    },
    {
     "cell_type": "code",
     "collapsed": false,
     "input": [
      "if remote_data:\n",
      "    #print 'Disconnecting from remote paraview server connection'\n",
      "    Disconnect()\n",
      "    pass"
     ],
     "language": "python",
     "metadata": {},
     "outputs": []
    },
    {
     "cell_type": "code",
     "collapsed": false,
     "input": [],
     "language": "python",
     "metadata": {},
     "outputs": []
    }
   ],
   "metadata": {}
  }
 ]
}