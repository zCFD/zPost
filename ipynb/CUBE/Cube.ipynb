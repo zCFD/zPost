{
 "metadata": {
  "name": "",
  "signature": "sha256:8bb0a5f64bea9001102042ca42076027338b5af625522ed77f4165a2a60a3d7f"
 },
 "nbformat": 3,
 "nbformat_minor": 0,
 "worksheets": [
  {
   "cells": [
    {
     "cell_type": "markdown",
     "metadata": {},
     "source": [
      "#-----------------------------------3D Cube Validation test case-----------------\n",
      "\n",
      "#Reynolds number case\n",
      "Re = 0.04e6 (based on the height of the cube)<br/>\n",
      "#Average Velocity based on Re\n",
      "U_ref = 0.584 \n",
      "\n",
      "#References\n",
      "# K. Sedighi et. al. (2006) .Three dimensional study of vortical structure around a cubic bluff bofy in a channel.  Facta Universitadis Mechanical Engineering vol.(2), no.(1), pp.1-16\n",
      "# Martinuzzi and Tropea (1993).The flow around surface mounted, prismatic obstacles placed in a fully developed channel.Journal of Fluids Engineering. Vol 115\n",
      "\n",
      "\n",
      "    \n"
     ]
    },
    {
     "cell_type": "markdown",
     "metadata": {},
     "source": [
      "## Define case name\n",
      "This is the solver case to be analysed"
     ]
    },
    {
     "cell_type": "code",
     "collapsed": false,
     "input": [
      "case_name = 'cube'"
     ],
     "language": "python",
     "metadata": {},
     "outputs": [],
     "prompt_number": 1
    },
    {
     "cell_type": "markdown",
     "metadata": {},
     "source": [
      "## Define Data Location\n",
      "For remote data the interaction will use ssh to securely interact with the data<br/>\n",
      "This uses the reverse connection capability in paraview so that the paraview server can be submitted to a job scheduler<br/>\n",
      "Note: The default paraview server connection will use port 11111"
     ]
    },
    {
     "cell_type": "code",
     "collapsed": false,
     "input": [
      "remote_data = True\n",
      "\n",
      "data_dir='/gpfs/asrc/home/acimpoeru/Cube/zCFDInterface/zCFDInterface/'\n",
      "data_host='acimpoeru@login02'\n",
      "\n",
      "remote_server_auto = True\n",
      "\n",
      "paraview_cmd='mpiexec /gpfs/thirdparty/zenotech/home/jappa/apps/Paraview/bin/pvserver -rc --client-host=localhost -sp=11115'\n",
      "if not remote_server_auto:\n",
      "    paraview_cmd=None\n",
      "\n",
      "if not remote_data:\n",
      "    data_host='localhost'\n",
      "    paraview_cmd=None"
     ],
     "language": "python",
     "metadata": {},
     "outputs": [],
     "prompt_number": 2
    },
    {
     "cell_type": "markdown",
     "metadata": {},
     "source": [
      "### Initialise Environment"
     ]
    },
    {
     "cell_type": "code",
     "collapsed": false,
     "input": [
      "%pylab inline\n",
      "from paraview.simple import *\n",
      "paraview.simple._DisableFirstRenderCameraReset()\n",
      "import pylab as pl\n",
      "import math\n",
      "#import numpy as np"
     ],
     "language": "python",
     "metadata": {},
     "outputs": [
      {
       "output_type": "stream",
       "stream": "stdout",
       "text": [
        "Populating the interactive namespace from numpy and matplotlib\n",
        "paraview version 4.1.0"
       ]
      },
      {
       "output_type": "stream",
       "stream": "stdout",
       "text": [
        "\n"
       ]
      }
     ],
     "prompt_number": 3
    },
    {
     "cell_type": "markdown",
     "metadata": {},
     "source": [
      "### Data Connection\n",
      "This starts paraview server on remote host and connects"
     ]
    },
    {
     "cell_type": "code",
     "collapsed": false,
     "input": [
      "from zutil.post import pvserver_connect\n",
      "if remote_data:\n",
      "    pvserver_connect(data_host=data_host,data_dir=data_dir,paraview_cmd=paraview_cmd,paraview_remote_port=11115)"
     ],
     "language": "python",
     "metadata": {},
     "outputs": [
      {
       "output_type": "stream",
       "stream": "stdout",
       "text": [
        "[acimpoeru@login02] Executing task 'pvserver'\n",
        "[acimpoeru@login02] run: sleep 2;mpiexec /gpfs/thirdparty/zenotech/home/jappa/apps/Paraview/bin/pvserver -rc --client-host=localhost -sp=11115&>/dev/null\n",
        "[acimpoeru@login02] out: \n",
        "[acimpoeru@login02] out: \t\t   _____ ______ __  __  _____ \n",
        "[acimpoeru@login02] out: \t\t  / ____|  ____|  \\/  |/ ____|\n",
        "[acimpoeru@login02] out: \t\t | |    | |__  | \\  / | (___  \n",
        "[acimpoeru@login02] out: \t\t | |    |  __| | |\\/| |\\___ \\ \n",
        "[acimpoeru@login02] out: \t\t | |____| |    | |  | |____) |\n",
        "[acimpoeru@login02] out: \t\t  \\_____|_|    |_|  |_|_____/ \n",
        "[acimpoeru@login02] out:                               \n",
        "[acimpoeru@login02] out:                               \n",
        "[acimpoeru@login02] out: \n",
        "[acimpoeru@login02] out: ++++++++++++++++++++++++++++: System Data :++++++++++++++++++++++++++++\n",
        "[acimpoeru@login02] out: + Hostname = login02\n",
        "[acimpoeru@login02] out: + Kernel = 2.6.32-358.el6.x86_64\n",
        "[acimpoeru@login02] out: + RHEL Release = Red Hat Enterprise Linux Server release 6.4 (Santiago)\n",
        "[acimpoeru@login02] out: + Uptime = 17:40:41 up 90 days, 5:24, 37 users,\n",
        "[acimpoeru@login02] out: + CPU = 2x Intel Xeon X5570 @ 2.93GHz\n",
        "[acimpoeru@login02] out: + Memory = 49415076 kB\n",
        "[acimpoeru@login02] out: ++++++++++++++++++++++++++++: User Data :++++++++++++++++++++++++++++++\n",
        "[acimpoeru@login02] out: + Username = acimpoeru\n",
        "[acimpoeru@login02] out: +++++++++++++++++++++++: Contact Information :+++++++++++++++++++++++++\n",
        "[acimpoeru@login02] out: + in case of any problems, contact: support@cfms.org.uk\n",
        "[acimpoeru@login02] out: + for feedback, contact: feedback@cfms.org.uk \n",
        "[acimpoeru@login02] out: +++++++++++++++++++++: Maintenance Information :+++++++++++++++++++++++\n",
        "[acimpoeru@login02] out: + There is no planned maintenance for the cluster\n",
        "[acimpoeru@login02] out: +++++++++++++++++++++++++++++++++++++++++++++++++++++++++++++++++++++++\n",
        "[acimpoeru@login02] out: \n",
        "[acimpoeru@login02] out: "
       ]
      }
     ],
     "prompt_number": 4
    },
    {
     "cell_type": "markdown",
     "metadata": {},
     "source": [
      "Get control dictionary"
     ]
    },
    {
     "cell_type": "code",
     "collapsed": false,
     "input": [
      "from zutil.post import get_case_parameters,print_html_parameters\n",
      "parameters=get_case_parameters(case_name,data_host=data_host,data_dir=data_dir)"
     ],
     "language": "python",
     "metadata": {},
     "outputs": [],
     "prompt_number": 5
    },
    {
     "cell_type": "markdown",
     "metadata": {},
     "source": [
      "Get status file"
     ]
    },
    {
     "cell_type": "code",
     "collapsed": false,
     "input": [
      "from zutil.post import get_status_dict\n",
      "status=get_status_dict(case_name,data_host=data_host,data_dir=data_dir)\n",
      "num_procs = str(status['num processor'])"
     ],
     "language": "python",
     "metadata": {},
     "outputs": [],
     "prompt_number": 7
    },
    {
     "cell_type": "markdown",
     "metadata": {},
     "source": [
      "### Define test conditions"
     ]
    },
    {
     "cell_type": "code",
     "collapsed": false,
     "input": [
      "alpha = 0.0 # degrees\n",
      "beta  = 0.0 # degrees\n",
      "reference_area = 0.112032 # frontal areas in metres^2\n",
      "reference_length = 1.044 # metres\n",
      "pressure = 101325.0 # Pa\n",
      "temperature = 294.5 # i.e. 15 degrees celcius\n",
      "gas_constant = 287.0\n",
      "density  = pressure/(gas_constant * temperature) # kg/m^3 - check\n",
      "gamma = 1.4\n",
      "speed_of_sound = math.sqrt(gamma*pressure/density) # m/s\n",
      "mach = 40.0/speed_of_sound\n",
      "\n",
      "from IPython.display import HTML\n",
      "HTML(print_html_parameters(parameters))"
     ],
     "language": "python",
     "metadata": {},
     "outputs": []
    },
    {
     "cell_type": "markdown",
     "metadata": {},
     "source": [
      "### Read experimental data"
     ]
    },
    {
     "cell_type": "code",
     "collapsed": false,
     "input": [
      "velocity_profile_factor = 1.0/20.0\n",
      "\n",
      "ins = open( \"data/Ahmed_25_Cp.dat\", \"r\" )\n",
      "cp_array = {'x':[],'y':[],'z':[],'cp':[]}\n",
      "for line in ins:\n",
      "    if line[0] != '#' and line[0] != '%':\n",
      "        # Split the list\n",
      "        var = line.split()\n",
      "        if len(var) == 4 and var[1] == '0.00':\n",
      "            cp_array['x'].append(float(var[0])/1000.0)\n",
      "            cp_array['y'].append(float(var[1])/1000.0)\n",
      "            cp_array['z'].append(float(var[2])/1000.0)\n",
      "            cp_array['cp'].append(float(var[3]))\n",
      "ins.close()\n",
      "\n",
      "ins = open( \"data/Ahmed_25_y=0_global.dat\", \"r\" )\n",
      "profile_array = {'x':[],'y':[],'z':[],'u':[],'delta':[]}\n",
      "for line in ins:\n",
      "    if line[0] != '#' and line[0] != '%':\n",
      "        # Split the list\n",
      "        var = line.split()\n",
      "        profile_array['x'].append(float(var[0])/1000.0)\n",
      "        profile_array['y'].append(float(var[1])/1000.0)\n",
      "        profile_array['z'].append(float(var[2])/1000.0)\n",
      "        profile_array['u'].append(float(var[3]))\n",
      "        profile_array['delta'].append(float(var[0])/1000.0+(float(var[3])-40.0)/40.0*velocity_profile_factor)\n",
      "ins.close()\n",
      "\n",
      "profile_location = []\n",
      "\n",
      "profile_location.append(profile_array['x'][0])\n",
      "for x in profile_array['x']:\n",
      "    if x != profile_location[-1]:\n",
      "        profile_location.append(x)\n"
     ],
     "language": "python",
     "metadata": {},
     "outputs": []
    },
    {
     "cell_type": "code",
     "collapsed": false,
     "input": [
      "from zutil.post import for_each\n",
      "\n",
      "def plot_velocity_profile(ax,file_root):\n",
      "    \n",
      "    sym = PVDReader( FileName=file_root+'_symmetry.pvd' )\n",
      "    sym.UpdatePipeline()\n",
      "    \n",
      "    clip = Clip( ClipType=\"Plane\", Input=sym )\n",
      "    clip.ClipType.Normal = [0.0, 1.0, 0.0]\n",
      "    clip.ClipType.Origin = [0, -0.01, 0.0]    \n",
      "    clip.UpdatePipeline()\n",
      "\n",
      "    clip2 = Clip( ClipType=\"Plane\", Input=clip )\n",
      "    clip2.ClipType.Normal = [0.0, 0.0, -1.0]\n",
      "    clip2.ClipType.Origin = [0, 0.0, 0.8]    \n",
      "    clip2.UpdatePipeline()\n",
      "\n",
      "    point_data = CellDatatoPointData(Input=clip2)\n",
      "    point_data.PassCellData = 0\n",
      "    point_data.UpdatePipeline()\n",
      "    \n",
      "    for x in profile_location:         \n",
      "        wall_slice = Slice(Input=point_data, SliceType=\"Plane\" )\n",
      "        wall_slice.SliceType.Normal = [1.0,0.0,0.0]\n",
      "        wall_slice.SliceType.Origin = [float(x), 0.0, 0.0]\n",
      "        wall_slice.UpdatePipeline()\n",
      "        slice_client = servermanager.Fetch(wall_slice)\n",
      "        for_each(slice_client,func=plot_array,axis=ax)         \n",
      "\n",
      "def plot_array(data_array,pts_array,**kwargs):\n",
      "    ax = kwargs['axis']\n",
      "    data = []\n",
      "    count = 0\n",
      "    u_vel = data_array.GetPointData()['V'][:,0]\n",
      "    for p in pts_array.GetPoints()[:,0]:\n",
      "        data.append(float(p[0][0])+(float(u_vel[count])-40.0)/40.0*velocity_profile_factor)\n",
      "        count+=1 \n",
      "    ax.plot(data, pts_array.GetPoints()[:,2], color='g',marker='s',linestyle='none',fillstyle='none')\n",
      "                   \n",
      "from zutil.post import cp_profile\n",
      "\n",
      "def get_cp_profile(file_root):\n",
      "    wall = PVDReader( FileName=file_root+'_wall.pvd' )\n",
      "    wall.UpdatePipeline()\n",
      "    # Remove floor\n",
      "    clip = Clip( ClipType=\"Plane\", Input=wall )\n",
      "    clip.ClipType.Normal = [0.0, 0.0, 1.0]\n",
      "    clip.ClipType.Origin = [0, 0, 0.049]    \n",
      "    clip.UpdatePipeline()\n",
      "    merge = MergeBlocks(Input=clip)\n",
      "    merge.UpdatePipeline()\n",
      "    cp_data = {'x':[],'y':[],'z':[],'cp':[]}\n",
      "    cp_profile(merge,[0.0,1.0,0.0],[0.0, -0.001, 0.0],func=save_data,cp_data=cp_data)\n",
      "    return cp_data\n",
      "    \n",
      "def save_data(data_array,pts_array,**kwargs):\n",
      "    cp_data = kwargs['cp_data']\n",
      "    count = 0\n",
      "    #print data_array.GetPointData().keys()\n",
      "    for cp in data_array.GetPointData()['cp']:\n",
      "        cp_data['cp'].append(float(cp))\n",
      "        cp_data['x'].append(float(pts_array.GetPoints().item((count,0))))\n",
      "        cp_data['y'].append(float(pts_array.GetPoints().item((count,1))))\n",
      "        cp_data['z'].append(float(pts_array.GetPoints().item((count,2))))   \n",
      "        count+=1\n"
     ],
     "language": "python",
     "metadata": {},
     "outputs": []
    },
    {
     "cell_type": "markdown",
     "metadata": {},
     "source": [
      "## Velocity profiles y=0"
     ]
    },
    {
     "cell_type": "code",
     "collapsed": false,
     "input": [
      "from zutil.post import get_case_root\n",
      "zcfd_cp_data = get_cp_profile(get_case_root(case_name,num_procs))\n",
      "fig = pl.figure(figsize=(30, 10),dpi=100, facecolor='w', edgecolor='k')\n",
      "fig.suptitle('Ahmed Body Velocity Profiles', fontsize=20, fontweight='bold')\n",
      "ax = fig.add_subplot(1,1,1)\n",
      "ax.grid(True)\n",
      "ax.set_xlabel('x [m]')\n",
      "ax.set_ylabel('z [m]')\n",
      "ax.axis([-1.6,0.8,0,0.8])\n",
      "ax.plot(zcfd_cp_data['x'],zcfd_cp_data['z'], color='grey',linestyle='-',marker='None',markersize=5)\n",
      "ax.plot(profile_array['x'],profile_array['z'], color='grey', label='station',linestyle='none',marker='.',markersize=1)\n",
      "ax.plot(profile_array['delta'],profile_array['z'], color='b', label='Expt U',marker='o',linestyle='none',fillstyle='none')\n",
      "plot_velocity_profile(ax,get_case_root(case_name,num_procs))\n",
      "ax.legend(loc='upper right', shadow=True)\n",
      "fig.savefig(\"images/ahmed_vel_profile.pdf\")\n",
      "from IPython.display import FileLink, display \n",
      "display(FileLink('images/ahmed_vel_profile.pdf'))\n",
      "show()"
     ],
     "language": "python",
     "metadata": {},
     "outputs": []
    },
    {
     "cell_type": "markdown",
     "metadata": {},
     "source": [
      "## Pressure Coefficient y=0"
     ]
    },
    {
     "cell_type": "code",
     "collapsed": false,
     "input": [
      "fig = pl.figure(figsize=(30, 10),dpi=100, facecolor='w', edgecolor='k')\n",
      "fig.suptitle('Ahmed Body $C_p$ y=0', fontsize=20, fontweight='bold')\n",
      "ax = fig.add_subplot(1,1,1)\n",
      "ax.grid(True)\n",
      "ax.set_xlabel('x [m]')\n",
      "ax.set_ylabel('$C_p$')\n",
      "ax.axis([-1.25,0.25,1.0,-1.0])\n",
      "\n",
      "ax.plot(zcfd_cp_data['x'],zcfd_cp_data['cp'], color='b', label='zCFD',linestyle='-',marker='p')\n",
      "ax.plot(cp_array['x'],cp_array['cp'], color='r', label='Expt',linestyle='none',marker='s')\n",
      "\n",
      "ax2 = ax.twinx()\n",
      "ax2.set_ylabel('z [m]')\n",
      "ax2.axis([-1.25,0.25,0.0,0.5])\n",
      "ax2.plot(zcfd_cp_data['x'],zcfd_cp_data['z'], color='grey',linestyle='-',marker='None',markersize=4)\n",
      "\n",
      "ax.legend(loc='upper right', shadow=True)\n",
      "fig.savefig(\"images/ahmed_cp_profile.pdf\")\n",
      "from IPython.display import FileLink, display \n",
      "display(FileLink('images/ahmed_cp_profile.pdf'))\n",
      "show()"
     ],
     "language": "python",
     "metadata": {},
     "outputs": []
    },
    {
     "cell_type": "markdown",
     "metadata": {},
     "source": [
      "### Force calculation function\n",
      "\n",
      "Note: the domain is clipped to remove the legs from the model"
     ]
    },
    {
     "cell_type": "code",
     "collapsed": false,
     "input": [
      "from zutil.post import calc_force\n",
      "\n",
      "def calc_force_wall(file_root,ignore_zone,half_model=True,filter=None):\n",
      "    \n",
      "    wall = PVDReader( FileName=file_root+'_wall.pvd' )\n",
      "    wall.UpdatePipeline()\n",
      "    \n",
      "    clip = Clip( ClipType=\"Plane\", Input=wall )\n",
      "    clip.ClipType.Normal = [0.0, 0.0, 1.0]\n",
      "    clip.ClipType.Origin = [0, 0, 0.049]    \n",
      "    clip.UpdatePipeline()\n",
      "    \n",
      "    return calc_force(clip,ignore_zone,half_model,filter)"
     ],
     "language": "python",
     "metadata": {},
     "outputs": []
    },
    {
     "cell_type": "markdown",
     "metadata": {},
     "source": [
      "## Calculate forces"
     ]
    },
    {
     "cell_type": "code",
     "collapsed": false,
     "input": [
      "force = []\n",
      "ignore_zones = []\n",
      "\n",
      "pf,ff = calc_force_wall(get_case_root(case_name,num_procs),set(ignore_zones),False)\n",
      "for i in range(0,3):\n",
      "    pf[i] /= reference_area\n",
      "    ff[i] /= reference_area\n",
      "    force.append(pf[i] + ff[i])\n",
      "        \n",
      "C_D = force[0]\n",
      "C_S = force[1]\n",
      "C_L = force[2]\n",
      "        \n",
      "print 'alpha = ' + ('%.4f' %alpha)\n",
      "print 'beta = ' + ('%.4f' %beta)\n",
      "print 'reference area = ' + ('%.4f' %reference_area) \n",
      "print 'reference length = ' + ('%.4f' %reference_length) \n",
      "print 'pressure = ' + ('%.4f' %pressure)  \n",
      "print 'temperature = ' + ('%.4f' %temperature)  \n",
      "print 'gas_constant = ' + ('%.4f' %gas_constant)  \n",
      "print 'density = ' + ('%.4f' %density) \n",
      "print 'gamma = ' + ('%.4f' %gamma) \n",
      "print 'speed of sound = ' + ('%.4f' %speed_of_sound) \n",
      "print 'mach = ' + ('%.4f' %mach)  \n",
      "    \n",
      "print 'C_S = ' + ('%.4f' %C_S)     \n",
      "print 'C_D = ' + ('%.4f' %C_D) \n",
      "print 'C_L = ' + ('%.4f' %C_L) \n",
      "print 'C_D_pressure = ' + ('%.4f' %pf[0])\n",
      "print 'C_D_friction = ' + ('%.4f' %ff[0])"
     ],
     "language": "python",
     "metadata": {},
     "outputs": []
    },
    {
     "cell_type": "markdown",
     "metadata": {},
     "source": [
      "## Convergence"
     ]
    },
    {
     "cell_type": "code",
     "collapsed": false,
     "input": [
      "from zutil.post import residual_plot, get_case_report\n",
      "residual_plot(get_case_report(case_name))\n",
      "show()"
     ],
     "language": "python",
     "metadata": {},
     "outputs": []
    },
    {
     "cell_type": "markdown",
     "metadata": {},
     "source": [
      "### Cleaning up"
     ]
    },
    {
     "cell_type": "code",
     "collapsed": false,
     "input": [
      "if remote_data:\n",
      "    #print 'Disconnecting from remote paraview server connection'\n",
      "    Disconnect()\n",
      "    pass"
     ],
     "language": "python",
     "metadata": {},
     "outputs": []
    },
    {
     "cell_type": "code",
     "collapsed": false,
     "input": [],
     "language": "python",
     "metadata": {},
     "outputs": []
    }
   ],
   "metadata": {}
  }
 ]
}