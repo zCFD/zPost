{
 "metadata": {
  "name": "",
  "signature": "sha256:474e54eeb291c421478e4ddd9afef8c80a145e5e2e280c0bca4c8590c2fad691"
 },
 "nbformat": 3,
 "nbformat_minor": 0,
 "worksheets": [
  {
   "cells": [
    {
     "cell_type": "markdown",
     "metadata": {},
     "source": [
      "#-----------------------------------3D Cube Validation test case-----------------\n",
      "\n",
      "#Reynolds number case\n",
      "Re = 0.04e6 (based on the height of the cube)<br/>\n",
      "#Average Velocity based on Re\n",
      "#References\n",
      "# K. Sedighi et. al. (2006) .Three dimensional study of vortical structure around a cubic bluff bofy in a channel.  Facta Universitadis Mechanical Engineering vol.(2), no.(1), pp.1-16\n",
      "# Martinuzzi and Tropea (1993).The flow around surface mounted, prismatic obstacles placed in a fully developed channel.Journal of Fluids Engineering. Vol 115\n",
      "\n",
      "\n",
      "    \n"
     ]
    },
    {
     "cell_type": "markdown",
     "metadata": {},
     "source": [
      "## Define case name\n",
      "This is the solver case to be analysed"
     ]
    },
    {
     "cell_type": "code",
     "collapsed": false,
     "input": [
      "case_name = 'cube_test'"
     ],
     "language": "python",
     "metadata": {},
     "outputs": [],
     "prompt_number": 1
    },
    {
     "cell_type": "markdown",
     "metadata": {},
     "source": [
      "## Define Data Location\n",
      "For remote data the interaction will use ssh to securely interact with the data<br/>\n",
      "This uses the reverse connection capability in paraview so that the paraview server can be submitted to a job scheduler<br/>\n",
      "Note: The default paraview server connection will use port 11111"
     ]
    },
    {
     "cell_type": "code",
     "collapsed": false,
     "input": [
      "remote_data = True\n",
      "\n",
      "data_dir='/gpfs/asrc/home/acimpoeru/cube_JA/CUBE'\n",
      "data_host='acimpoeru@login02'\n",
      "\n",
      "remote_server_auto = True\n",
      "\n",
      "paraview_cmd='mpiexec /gpfs/thirdparty/zenotech/home/jappa/apps/Paraview/bin/pvserver -rc --client-host=localhost -sp=11115'\n",
      "if not remote_server_auto:\n",
      "    paraview_cmd=None\n",
      "\n",
      "if not remote_data:\n",
      "    data_host='localhost'\n",
      "    paraview_cmd=None"
     ],
     "language": "python",
     "metadata": {},
     "outputs": [],
     "prompt_number": 2
    },
    {
     "cell_type": "markdown",
     "metadata": {},
     "source": [
      "### Initialise Environment"
     ]
    },
    {
     "cell_type": "code",
     "collapsed": false,
     "input": [
      "%pylab inline\n",
      "from paraview.simple import *\n",
      "paraview.simple._DisableFirstRenderCameraReset()\n",
      "import pylab as pl\n",
      "import math\n",
      "#import numpy as np"
     ],
     "language": "python",
     "metadata": {},
     "outputs": [
      {
       "output_type": "stream",
       "stream": "stdout",
       "text": [
        "Populating the interactive namespace from numpy and matplotlib\n",
        "paraview version 4.1.0"
       ]
      },
      {
       "output_type": "stream",
       "stream": "stdout",
       "text": [
        "\n"
       ]
      }
     ],
     "prompt_number": 3
    },
    {
     "cell_type": "markdown",
     "metadata": {},
     "source": [
      "### Data Connection\n",
      "This starts paraview server on remote host and connects"
     ]
    },
    {
     "cell_type": "code",
     "collapsed": false,
     "input": [
      "from zutil.post import pvserver_connect\n",
      "if remote_data:\n",
      "    pvserver_connect(data_host=data_host,data_dir=data_dir,paraview_cmd=paraview_cmd,paraview_remote_port=11115)"
     ],
     "language": "python",
     "metadata": {},
     "outputs": [
      {
       "output_type": "stream",
       "stream": "stdout",
       "text": [
        "[acimpoeru@login02] Executing task 'pvserver'\n",
        "[acimpoeru@login02] run: sleep 2;mpiexec /gpfs/thirdparty/zenotech/home/jappa/apps/Paraview/bin/pvserver -rc --client-host=localhost -sp=11115&>/dev/null\n",
        "[acimpoeru@login02] out: \n",
        "[acimpoeru@login02] out: \t\t   _____ ______ __  __  _____ \n",
        "[acimpoeru@login02] out: \t\t  / ____|  ____|  \\/  |/ ____|\n",
        "[acimpoeru@login02] out: \t\t | |    | |__  | \\  / | (___  \n",
        "[acimpoeru@login02] out: \t\t | |    |  __| | |\\/| |\\___ \\ \n",
        "[acimpoeru@login02] out: \t\t | |____| |    | |  | |____) |\n",
        "[acimpoeru@login02] out: \t\t  \\_____|_|    |_|  |_|_____/ \n",
        "[acimpoeru@login02] out:                               \n",
        "[acimpoeru@login02] out:                               \n",
        "[acimpoeru@login02] out: \n",
        "[acimpoeru@login02] out: ++++++++++++++++++++++++++++: System Data :++++++++++++++++++++++++++++\n",
        "[acimpoeru@login02] out: + Hostname = login02\n",
        "[acimpoeru@login02] out: + Kernel = 2.6.32-358.el6.x86_64\n",
        "[acimpoeru@login02] out: + RHEL Release = Red Hat Enterprise Linux Server release 6.4 (Santiago)\n",
        "[acimpoeru@login02] out: + Uptime = 14:57:13 up 91 days, 2:41, 41 users,\n",
        "[acimpoeru@login02] out: + CPU = 2x Intel Xeon X5570 @ 2.93GHz\n",
        "[acimpoeru@login02] out: + Memory = 49415076 kB\n",
        "[acimpoeru@login02] out: ++++++++++++++++++++++++++++: User Data :++++++++++++++++++++++++++++++\n",
        "[acimpoeru@login02] out: + Username = acimpoeru\n",
        "[acimpoeru@login02] out: +++++++++++++++++++++++: Contact Information :+++++++++++++++++++++++++\n",
        "[acimpoeru@login02] out: + in case of any problems, contact: support@cfms.org.uk\n",
        "[acimpoeru@login02] out: + for feedback, contact: feedback@cfms.org.uk \n",
        "[acimpoeru@login02] out: +++++++++++++++++++++: Maintenance Information :+++++++++++++++++++++++\n",
        "[acimpoeru@login02] out: + There is no planned maintenance for the cluster\n",
        "[acimpoeru@login02] out: +++++++++++++++++++++++++++++++++++++++++++++++++++++++++++++++++++++++\n",
        "[acimpoeru@login02] out: \n",
        "[acimpoeru@login02] out: "
       ]
      }
     ],
     "prompt_number": 4
    },
    {
     "cell_type": "markdown",
     "metadata": {},
     "source": [
      "Get control dictionary"
     ]
    },
    {
     "cell_type": "code",
     "collapsed": false,
     "input": [
      "from zutil.post import get_case_parameters,print_html_parameters\n",
      "parameters=get_case_parameters(case_name,data_host=data_host,data_dir=data_dir)"
     ],
     "language": "python",
     "metadata": {},
     "outputs": [],
     "prompt_number": 5
    },
    {
     "cell_type": "markdown",
     "metadata": {},
     "source": [
      "Get status file"
     ]
    },
    {
     "cell_type": "code",
     "collapsed": false,
     "input": [
      "from zutil.post import get_status_dict\n",
      "status=get_status_dict(case_name,data_host=data_host,data_dir=data_dir)\n",
      "num_procs = str(status['num processor'])"
     ],
     "language": "python",
     "metadata": {},
     "outputs": [],
     "prompt_number": 6
    },
    {
     "cell_type": "markdown",
     "metadata": {},
     "source": [
      "### Define test conditions"
     ]
    },
    {
     "cell_type": "code",
     "collapsed": false,
     "input": [
      "alpha = 0.0 # degrees\n",
      "beta  = 0.0 # degrees\n",
      "Re = 0.04e06 # Reynolds number \n",
      "reference_area = 1.0 # frontal areas in metres^2\n",
      "reference_length = 1.0 # metres\n",
      "U_inf = 10.0 # reference velocity\n",
      "pressure = 101325.0 # Pa\n",
      "temperature = 288.15 # i.e. 15 degrees celcius\n",
      "gas_constant = 287.0\n",
      "density  = pressure/(gas_constant * temperature) # kg/m^3 - check\n",
      "gamma = 1.4\n",
      "speed_of_sound = math.sqrt(gamma * gas_constant * temperature) # m/s\n",
      "\n",
      "mach = U_inf/speed_of_sound      # Mach number of the case \n",
      "\n",
      "from IPython.display import HTML\n",
      "HTML(print_html_parameters(parameters))"
     ],
     "language": "python",
     "metadata": {},
     "outputs": [
      {
       "html": [
        "<table>\n",
        "<tr><td>pressure</td><td>101325.0</td></tr>\n",
        "<tr><td>temperature</td><td>294.5</td></tr>\n",
        "<tr><td>Reynolds No</td><td>40000.0</td></tr>\n",
        "<tr><td>Ref length</td><td>1.0</td></tr>\n",
        "<tr><td>Speed</td><td>5.0</td></tr>\n",
        "<tr><td>Mach No</td><td>0.0</td></tr>\n",
        "</table>"
       ],
       "metadata": {},
       "output_type": "pyout",
       "prompt_number": 7,
       "text": [
        "<IPython.core.display.HTML at 0x11a72bf90>"
       ]
      }
     ],
     "prompt_number": 7
    },
    {
     "cell_type": "code",
     "collapsed": false,
     "input": [
      "### Read experimental data of Martinuzzi "
     ],
     "language": "python",
     "metadata": {},
     "outputs": [],
     "prompt_number": 8
    },
    {
     "cell_type": "code",
     "collapsed": false,
     "input": [
      "import zutil\n",
      "import zutil.post as post\n",
      "reload(zutil)\n",
      "reload(post)\n",
      "#from zutil.post import get_csv_data\n",
      "\n",
      "data = zutil.post.get_csv_data(\"/gpfs/asrc/home/acimpoeru/cube_JA/CUBE/data.csv\",header=True,remote=True,delim=',')\n",
      "print data.keys()\n",
      "#print data['y/H']\n",
      "\n"
     ],
     "language": "python",
     "metadata": {},
     "outputs": [
      {
       "output_type": "stream",
       "stream": "stdout",
       "text": [
        "['y/H', 'U/Ub', 'u2/Ub2', 'V/Ub', 'v2/Ub2', 'uv/Ub2']\n"
       ]
      }
     ],
     "prompt_number": 9
    },
    {
     "cell_type": "code",
     "collapsed": false,
     "input": [
      "from zutil.post import for_each\n",
      "\n",
      "def plot_velocity_profile(ax,file_root):\n",
      "    \n",
      "    sym = PVDReader( FileName=file_root+'cube_test.pvd' )\n",
      "    sym.UpdatePipeline()\n",
      "    \n",
      "   # clip = Clip( ClipType=\"Plane\", Input=sym )\n",
      "   # clip.ClipType.Normal = [0.0, 1.0, 0.0]\n",
      "   # clip.ClipType.Origin = [0, -0.01, 0  \n",
      "   # clip.UpdatePipeline()\n",
      "\n",
      "    slice1 = Slice(SliceType = 'Plane',Input=sym) \n",
      "    slice1.SliceType.Normal = [0.0 , 1.0 , 0.0]\n",
      "    slice1.SliceType.Origin = [0.0 , 0.0 , 0.0]\n",
      "    slice1.UpdatePipeline()\n",
      "    \n",
      "    \n",
      "    slice2 = Slice(SliceType = \"Plane\",Input = slice1)\n",
      "    slice2.SliceType.Normal = [1.0 , 0.0 , 0.0]\n",
      "    slice2.SliceType.Origin = [0.5 , 0.0 , 0.0]\n",
      "    slice2.UpdatePipeline()\n",
      "    \n",
      "    \n",
      "    #clip2 = Clip( ClipType=\"Plane\", Input=clip )\n",
      "    #clip2.ClipType.Normal = [0.0, 0.0, -1.0]\n",
      "    #clip2.ClipType.Origin = [0, 0.0, 0.8]    \n",
      "    #clip2.UpdatePipeline()\n",
      "\n",
      "    point_data = CellDatatoPointData(Input=slice2)\n",
      "    point_data.PassCellData = 0\n",
      "    point_data.UpdatePipeline()\n",
      "    print point_data\n",
      "    point_client = servermanager.Fetch(slice2)\n",
      "    #for_each(point_client,func=plot_array,axis=ax)\n",
      "    \n",
      "def plot_array(data_array,pts_array,**kwargs):\n",
      "    ax = kwargs['axis']\n",
      "    data = []\n",
      "    count = 0\n",
      "    u_vel = data_array.GetPointData()['V'][:,0]\n",
      "    for p in pts_array.GetPoints()[:,0]:\n",
      "        data.append(float(u_vel[count])/5.0)\n",
      "        count+=1 \n",
      "    ax.plot(data, pts_array.GetPoints()[:,2], color='g',marker='s',linestyle='none',fillstyle='none')\n",
      "                   \n",
      "\n"
     ],
     "language": "python",
     "metadata": {},
     "outputs": [],
     "prompt_number": 12
    },
    {
     "cell_type": "markdown",
     "metadata": {},
     "source": [
      "## Velocity profiles y=0"
     ]
    },
    {
     "cell_type": "code",
     "collapsed": false,
     "input": [
      "from zutil.post import get_case_root\n",
      "#zcfd_cp_data = get_cp_profile(get_case_root(case_name,num_procs))\n",
      "fig = pl.figure(figsize=(30, 10),dpi=100, facecolor='w', edgecolor='k')\n",
      "fig.suptitle('Ahmed Body Velocity Profiles', fontsize=20, fontweight='bold')\n",
      "ax = fig.add_subplot(1,1,1)\n",
      "ax.grid(True)\n",
      "ax.set_xlabel('x [m]')\n",
      "ax.set_ylabel('z [m]')\n",
      "#ax.axis([-1.6,0.8,0,0.8])\n",
      "#ax.plot(zcfd_cp_data['x'],zcfd_cp_data['z'], color='grey',linestyle='-',marker='None',markersize=5)\n",
      "#ax.plot(profile_array['x'],profile_array['z'], color='grey', label='station',linestyle='none',marker='.',markersize=1)\n",
      "#ax.plot(profile_array['delta'],profile_array['z'], color='b', label='Expt U',marker='o',linestyle='none',fillstyle='none')\n",
      "plot_velocity_profile(ax,get_case_root(case_name,num_procs))\n",
      "ax.legend(loc='upper right', shadow=True)\n",
      "#fig.savefig(\"images/ahmed_vel_profile.pdf\")\n",
      "#from IPython.display import FileLink, display \n",
      "#display(FileLink('images/ahmed_vel_profile.pdf'))\n",
      "show()"
     ],
     "language": "python",
     "metadata": {},
     "outputs": [
      {
       "output_type": "stream",
       "stream": "stdout",
       "text": [
        "<paraview.servermanager.CellDatatoPointData object at 0x11ab6f110>\n"
       ]
      },
      {
       "ename": "AttributeError",
       "evalue": "'NoneType' object has no attribute 'NewInstance'",
       "output_type": "pyerr",
       "traceback": [
        "\u001b[0;31m---------------------------------------------------------------------------\u001b[0m\n\u001b[0;31mAttributeError\u001b[0m                            Traceback (most recent call last)",
        "\u001b[0;32m<ipython-input-11-f84cb8bcf965>\u001b[0m in \u001b[0;36m<module>\u001b[0;34m()\u001b[0m\n\u001b[1;32m     11\u001b[0m \u001b[0;31m#ax.plot(profile_array['x'],profile_array['z'], color='grey', label='station',linestyle='none',marker='.',markersize=1)\u001b[0m\u001b[0;34m\u001b[0m\u001b[0;34m\u001b[0m\u001b[0m\n\u001b[1;32m     12\u001b[0m \u001b[0;31m#ax.plot(profile_array['delta'],profile_array['z'], color='b', label='Expt U',marker='o',linestyle='none',fillstyle='none')\u001b[0m\u001b[0;34m\u001b[0m\u001b[0;34m\u001b[0m\u001b[0m\n\u001b[0;32m---> 13\u001b[0;31m \u001b[0mplot_velocity_profile\u001b[0m\u001b[0;34m(\u001b[0m\u001b[0max\u001b[0m\u001b[0;34m,\u001b[0m\u001b[0mget_case_root\u001b[0m\u001b[0;34m(\u001b[0m\u001b[0mcase_name\u001b[0m\u001b[0;34m,\u001b[0m\u001b[0mnum_procs\u001b[0m\u001b[0;34m)\u001b[0m\u001b[0;34m)\u001b[0m\u001b[0;34m\u001b[0m\u001b[0m\n\u001b[0m\u001b[1;32m     14\u001b[0m \u001b[0max\u001b[0m\u001b[0;34m.\u001b[0m\u001b[0mlegend\u001b[0m\u001b[0;34m(\u001b[0m\u001b[0mloc\u001b[0m\u001b[0;34m=\u001b[0m\u001b[0;34m'upper right'\u001b[0m\u001b[0;34m,\u001b[0m \u001b[0mshadow\u001b[0m\u001b[0;34m=\u001b[0m\u001b[0mTrue\u001b[0m\u001b[0;34m)\u001b[0m\u001b[0;34m\u001b[0m\u001b[0m\n\u001b[1;32m     15\u001b[0m \u001b[0;31m#fig.savefig(\"images/ahmed_vel_profile.pdf\")\u001b[0m\u001b[0;34m\u001b[0m\u001b[0;34m\u001b[0m\u001b[0m\n",
        "\u001b[0;32m<ipython-input-10-2cae710339f2>\u001b[0m in \u001b[0;36mplot_velocity_profile\u001b[0;34m(ax, file_root)\u001b[0m\n\u001b[1;32m     32\u001b[0m     \u001b[0mpoint_data\u001b[0m\u001b[0;34m.\u001b[0m\u001b[0mUpdatePipeline\u001b[0m\u001b[0;34m(\u001b[0m\u001b[0;34m)\u001b[0m\u001b[0;34m\u001b[0m\u001b[0m\n\u001b[1;32m     33\u001b[0m     \u001b[0;32mprint\u001b[0m \u001b[0mpoint_data\u001b[0m\u001b[0;34m\u001b[0m\u001b[0m\n\u001b[0;32m---> 34\u001b[0;31m     \u001b[0mpoint_client\u001b[0m \u001b[0;34m=\u001b[0m \u001b[0mservermanager\u001b[0m\u001b[0;34m.\u001b[0m\u001b[0mFetch\u001b[0m\u001b[0;34m(\u001b[0m\u001b[0mslice2\u001b[0m\u001b[0;34m)\u001b[0m\u001b[0;34m\u001b[0m\u001b[0m\n\u001b[0m\u001b[1;32m     35\u001b[0m     \u001b[0;31m#for_each(point_client,func=plot_array,axis=ax)\u001b[0m\u001b[0;34m\u001b[0m\u001b[0;34m\u001b[0m\u001b[0m\n\u001b[1;32m     36\u001b[0m \u001b[0;34m\u001b[0m\u001b[0m\n",
        "\u001b[0;32m//Applications/paraview.app/Contents/Python/paraview/servermanager.pyc\u001b[0m in \u001b[0;36mFetch\u001b[0;34m(input, arg1, arg2, idx)\u001b[0m\n\u001b[1;32m   2311\u001b[0m \u001b[0;34m\u001b[0m\u001b[0m\n\u001b[1;32m   2312\u001b[0m     \u001b[0mop\u001b[0m \u001b[0;34m=\u001b[0m \u001b[0mfetcher\u001b[0m\u001b[0;34m.\u001b[0m\u001b[0mGetClientSideObject\u001b[0m\u001b[0;34m(\u001b[0m\u001b[0;34m)\u001b[0m\u001b[0;34m.\u001b[0m\u001b[0mGetOutputDataObject\u001b[0m\u001b[0;34m(\u001b[0m\u001b[0;36m0\u001b[0m\u001b[0;34m)\u001b[0m\u001b[0;34m\u001b[0m\u001b[0m\n\u001b[0;32m-> 2313\u001b[0;31m     \u001b[0mopc\u001b[0m \u001b[0;34m=\u001b[0m \u001b[0mop\u001b[0m\u001b[0;34m.\u001b[0m\u001b[0mNewInstance\u001b[0m\u001b[0;34m(\u001b[0m\u001b[0;34m)\u001b[0m\u001b[0;34m\u001b[0m\u001b[0m\n\u001b[0m\u001b[1;32m   2314\u001b[0m     \u001b[0mopc\u001b[0m\u001b[0;34m.\u001b[0m\u001b[0mShallowCopy\u001b[0m\u001b[0;34m(\u001b[0m\u001b[0mop\u001b[0m\u001b[0;34m)\u001b[0m\u001b[0;34m\u001b[0m\u001b[0m\n\u001b[1;32m   2315\u001b[0m     \u001b[0mopc\u001b[0m\u001b[0;34m.\u001b[0m\u001b[0mUnRegister\u001b[0m\u001b[0;34m(\u001b[0m\u001b[0mNone\u001b[0m\u001b[0;34m)\u001b[0m\u001b[0;34m\u001b[0m\u001b[0m\n",
        "\u001b[0;31mAttributeError\u001b[0m: 'NoneType' object has no attribute 'NewInstance'"
       ]
      },
      {
       "metadata": {},
       "output_type": "display_data",
       "png": "[encoded data removed]",
       "text": [
        "<matplotlib.figure.Figure at 0x11a739450>"
       ]
      }
     ],
     "prompt_number": 11
    },
    {
     "cell_type": "markdown",
     "metadata": {},
     "source": []
    },
    {
     "cell_type": "code",
     "collapsed": false,
     "input": [],
     "language": "python",
     "metadata": {},
     "outputs": []
    },
    {
     "cell_type": "markdown",
     "metadata": {},
     "source": [
      "### Force calculation function\n",
      "\n",
      "Note: the domain is clipped to remove the legs from the model"
     ]
    },
    {
     "cell_type": "markdown",
     "metadata": {},
     "source": [
      "## Calculate forces"
     ]
    },
    {
     "cell_type": "markdown",
     "metadata": {},
     "source": [
      "## Convergence"
     ]
    },
    {
     "cell_type": "code",
     "collapsed": false,
     "input": [
      "from zutil.post import residual_plot, get_case_report\n",
      "residual_plot(get_case_report(case_name))\n",
      "show()"
     ],
     "language": "python",
     "metadata": {},
     "outputs": []
    },
    {
     "cell_type": "markdown",
     "metadata": {},
     "source": [
      "### Cleaning up"
     ]
    },
    {
     "cell_type": "code",
     "collapsed": false,
     "input": [
      "if remote_data:\n",
      "    #print 'Disconnecting from remote paraview server connection'\n",
      "    Disconnect()\n",
      "    pass"
     ],
     "language": "python",
     "metadata": {},
     "outputs": []
    },
    {
     "cell_type": "code",
     "collapsed": false,
     "input": [],
     "language": "python",
     "metadata": {},
     "outputs": []
    }
   ],
   "metadata": {}
  }
 ]
}