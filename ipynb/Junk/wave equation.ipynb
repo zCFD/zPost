{
 "metadata": {
  "name": "",
  "signature": "sha256:732054ad837eec4643fd16b4cadf8df18a2e33542669d3fb19e74ba643b43ceb"
 },
 "nbformat": 3,
 "nbformat_minor": 0,
 "worksheets": [
  {
   "cells": [
    {
     "cell_type": "code",
     "collapsed": false,
     "input": [
      "## 1 dimensional wave equation at constant speed\n"
     ],
     "language": "python",
     "metadata": {},
     "outputs": [],
     "prompt_number": 1
    },
    {
     "cell_type": "code",
     "collapsed": false,
     "input": [
      "%pylab inline\n",
      "import pylab as pl\n",
      "import math\n",
      "import numpy as np\n",
      "import matplotlib.pyplot as plt\n",
      "import csv\n",
      "import zutil\n",
      "import zutil.post as post\n",
      "\n",
      "\n",
      "# the domain goes from [-40 to 40]\n",
      "u = 1.5 ;\n",
      "time = 5.0 ;\n",
      "\n",
      "# define the number of grid points, domain length\n",
      "\n",
      "x_max = 20 ;\n",
      "\n",
      "\n",
      "\n",
      "length  = 80.0 ; \n",
      "# define the grid vector \n",
      "grid_1D = np.zeros(x_max) ;\n",
      "\n",
      "#calculate the spacing\n",
      "\n",
      "dx = length / (x_max-1) ;\n",
      "\n",
      "# calculate the time step\n",
      "\n",
      "dt = dx/u\n",
      "\n",
      "#populate with values the grid vector \n",
      "\n",
      "grid_1D[0] = -40.0 ;\n",
      "#grid_1D[x_max-1] = 40.0 ;\n",
      "\n",
      "for i in range(1,x_max):\n",
      "    grid_1D[i] = grid_1D[i-1] + dx\n",
      "\n",
      "print ('The vector which contains the spatial coordinates is  = '), grid_1D\n",
      "\n",
      "# compute the exact solution \n",
      "\n",
      "sign_f = np.zeros(x_max)\n",
      "\n",
      "# boundary conditions for the exact solution\n",
      "sign_f[0] = 0.0 ;\n",
      "sign_f[x_max-1] = 1.0 ;\n",
      "\n",
      "# loop which calculates the exact values of the signum functions based on the sign(x)\n",
      "\n",
      "for j in range(1,x_max-1):\n",
      "    if (grid_1D[j] - (1.5*time)) < 0.0:\n",
      "        sign_f[j] = 0.0        \n",
      "    elif (grid_1D[j]-(1.5*time))==0.0:\n",
      "        sign_f[j] = 0.5\n",
      "    else:\n",
      "        sign_f[j] = 1.0\n",
      "        \n",
      "print ('The exact solution is  = '),sign_f\n",
      "        \n",
      "# approximate the wave equation using UPWIND TECHNIQUE \n",
      "\n",
      "        # define Courant or CFL number....For this explicit scheme the Courant must be CFL < 1\n",
      "        \n",
      "print ('The time step delta dt is =  '), dt\n",
      "        \n",
      "# calculate Courant \n",
      "        \n",
      "        \n",
      "    \n",
      "    \n",
      "\n"
     ],
     "language": "python",
     "metadata": {},
     "outputs": [
      {
       "output_type": "stream",
       "stream": "stdout",
       "text": [
        "Populating the interactive namespace from numpy and matplotlib\n",
        "The vector which contains the spatial coordinates is  =  [-40.         -35.78947368 -31.57894737 -27.36842105 -23.15789474\n",
        " -18.94736842 -14.73684211 -10.52631579  -6.31578947  -2.10526316\n",
        "   2.10526316   6.31578947  10.52631579  14.73684211  18.94736842\n",
        "  23.15789474  27.36842105  31.57894737  35.78947368  40.        ]\n",
        "The exact solution is  =  [ 0.  0.  0.  0.  0.  0.  0.  0.  0.  0.  0.  0.  1.  1.  1.  1.  1.  1.\n",
        "  1.  1.]\n",
        "The time step delta dt is =   2.80701754386\n"
       ]
      }
     ],
     "prompt_number": 109
    },
    {
     "cell_type": "code",
     "collapsed": false,
     "input": [],
     "language": "python",
     "metadata": {},
     "outputs": []
    }
   ],
   "metadata": {}
  }
 ]
}