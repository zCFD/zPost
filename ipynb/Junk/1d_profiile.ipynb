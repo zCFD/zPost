{
 "metadata": {
  "name": "",
  "signature": "sha256:38873375f358fa0dcf49ba785f6ed30d427f72b9198eb1e335390fde0490d638"
 },
 "nbformat": 3,
 "nbformat_minor": 0,
 "worksheets": [
  {
   "cells": [
    {
     "cell_type": "code",
     "collapsed": false,
     "input": [
      "%pylab inline\n",
      "import pylab as pl\n",
      "import math\n",
      "import numpy as np\n",
      "import matplotlib.pyplot as plt\n",
      "import csv\n",
      "# number of the grid points \n",
      "\n",
      "ymax = 31;\n",
      "\n",
      "# material properties \n",
      "\n",
      "rho = 1000.0;\n",
      "mu = 0.00102;\n",
      "nu = mu / rho ; \n",
      "\n",
      "#dimensions of the computational domain\n",
      "l = 0.5 ;\n",
      "h = 1 ;\n",
      "w = 1.0 ;\n",
      "\n",
      "# define Reynolds number\n",
      "\n",
      "Re = 2000 ;\n",
      "\n",
      "# compute the average velocity\n",
      "\n",
      "ua = (Re*nu)/(2.0*h);\n",
      "\n",
      "# compute the pressure drop\n",
      "\n",
      "dp = (12.0*mu*l*ua)/(h*h);\n",
      "\n",
      "# compute the volume flow rate \n",
      "\n",
      "Q = (w*dp*h*h*h)/(12.0*mu*l);\n",
      "\n",
      "# create the grid \n",
      "\n",
      "dy = h/(ymax-1.0)\n",
      "\n",
      "y = np.zeros(ymax)\n",
      "\n",
      "y[0] = 0.0\n",
      "\n",
      "for i in range(1,ymax):\n",
      "    y[i] = y[i-1]+dy\n",
      "      \n",
      "# compute the analytical solution\n",
      "u =np.zeros(ymax)\n",
      "\n",
      "#define the boundary conditions...define them inside the loop\n",
      "u[0] = 0.0\n",
      "u[ymax-1] = 0.0\n",
      "const = dp/(2.0*mu*l )\n",
      "\n",
      "for j in range(1,ymax-1):\n",
      "    u[j] = const * y[j]*(h-y[j])\n",
      "   \n",
      "\n",
      "print ua\n",
      "\n",
      "plt.plot(u,y,'x')\n",
      "plt.ylabel('Position [m]')\n",
      "plt.xlabel('Velocity [m/s]')\n",
      "plt.title('1D laminar velocity profile in a channel ')\n",
      "plt.show()\n",
      "\n",
      "\n",
      "    \n",
      "\n",
      "\n",
      "\n",
      "\n",
      "\n",
      "\n",
      "\n",
      "\n"
     ],
     "language": "python",
     "metadata": {},
     "outputs": [
      {
       "output_type": "stream",
       "stream": "stdout",
       "text": [
        "Populating the interactive namespace from numpy and matplotlib\n",
        "0.00102\n"
       ]
      },
      {
       "metadata": {},
       "output_type": "display_data",
       "png": "[encoded data removed]",
       "text": [
        "<matplotlib.figure.Figure at 0x10cf6b190>"
       ]
      }
     ],
     "prompt_number": 6
    },
    {
     "cell_type": "code",
     "collapsed": false,
     "input": [],
     "language": "python",
     "metadata": {},
     "outputs": [],
     "prompt_number": 44
    },
    {
     "cell_type": "code",
     "collapsed": false,
     "input": [],
     "language": "python",
     "metadata": {},
     "outputs": []
    }
   ],
   "metadata": {}
  }
 ]
}