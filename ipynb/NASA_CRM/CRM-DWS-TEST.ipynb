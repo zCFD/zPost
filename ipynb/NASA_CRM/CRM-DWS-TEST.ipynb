{
 "cells": [
  {
   "cell_type": "markdown",
   "metadata": {},
   "source": [
    "# NASA Common Research Model\n",
    "## Drag Prediction Workshop\n",
    "\n",
    "\n",
    "#### References\n",
    "\n",
    "    \n"
   ]
  },
  {
   "cell_type": "markdown",
   "metadata": {},
   "source": [
    "## Define case name\n",
    "This is the solver case to be analysed"
   ]
  },
  {
   "cell_type": "code",
   "execution_count": 1,
   "metadata": {
    "collapsed": false
   },
   "outputs": [],
   "source": [
    "case_name = 'dpws_L3'"
   ]
  },
  {
   "cell_type": "markdown",
   "metadata": {},
   "source": [
    "## Define Data Location\n",
    "For remote data the interaction will use ssh to securely interact with the data<br/>\n",
    "This uses the reverse connection capability in paraview so that the paraview server can be submitted to a job scheduler<br/>\n",
    "Note: The default paraview server connection will use port 11111"
   ]
  },
  {
   "cell_type": "code",
   "execution_count": 2,
   "metadata": {
    "collapsed": false
   },
   "outputs": [],
   "source": [
    "remote_data = True\n",
    "\n",
    "data_dir='/gpfs/thirdparty/zenotech/home/dstandingford/DPWS/L3/RESULTS_13'\n",
    "data_host='dstandingford@login01'\n",
    "\n",
    "remote_server_auto = True\n",
    "\n",
    "#paraview_cmd='mpiexec -n 1 ~/apps/Paraview/bin/pvserver --use-offscreen-rendering -rc --client-host=localhost -sp=11113'\n",
    "paraview_cmd='mpiexec ~/apps/Paraview/bin/pvserver -rc --client-host=localhost -sp=11111'\n",
    "if not remote_server_auto:\n",
    "    paraview_cmd=None\n",
    "\n",
    "if not remote_data:\n",
    "    data_host='localhost'\n",
    "    paraview_cmd=None"
   ]
  },
  {
   "cell_type": "markdown",
   "metadata": {},
   "source": [
    "### Initialise Environment"
   ]
  },
  {
   "cell_type": "code",
   "execution_count": null,
   "metadata": {
    "collapsed": false
   },
   "outputs": [
    {
     "name": "stdout",
     "output_type": "stream",
     "text": [
      "Populating the interactive namespace from numpy and matplotlib\n",
      "paraview version 4.2.0-77-g31a1d2a\n"
     ]
    }
   ],
   "source": [
    "%pylab inline\n",
    "from paraview.simple import *\n",
    "paraview.simple._DisableFirstRenderCameraReset()\n",
    "import pylab as pl"
   ]
  },
  {
   "cell_type": "markdown",
   "metadata": {},
   "source": [
    "### Data Connection\n",
    "This starts paraview server on remote host and connects"
   ]
  },
  {
   "cell_type": "code",
   "execution_count": null,
   "metadata": {
    "collapsed": false
   },
   "outputs": [],
   "source": [
    "from zutil.post import pvserver_connect\n",
    "if remote_data:\n",
    "    pvserver_connect(data_host=data_host,data_dir=data_dir,paraview_cmd=paraview_cmd)"
   ]
  },
  {
   "cell_type": "markdown",
   "metadata": {},
   "source": [
    "### Get control dictionary"
   ]
  },
  {
   "cell_type": "code",
   "execution_count": null,
   "metadata": {
    "collapsed": false
   },
   "outputs": [],
   "source": [
    "from zutil.post import get_case_parameters,print_html_parameters\n",
    "parameters=get_case_parameters(case_name,data_host=data_host,data_dir=data_dir)"
   ]
  },
  {
   "cell_type": "markdown",
   "metadata": {},
   "source": [
    "### Get status file"
   ]
  },
  {
   "cell_type": "code",
   "execution_count": null,
   "metadata": {
    "collapsed": false
   },
   "outputs": [],
   "source": [
    "from zutil.post import get_status_dict\n",
    "status=get_status_dict(case_name,data_host=data_host,data_dir=data_dir)\n",
    "num_procs = str(status['num processor'])\n",
    "print num_procs"
   ]
  },
  {
   "cell_type": "markdown",
   "metadata": {},
   "source": [
    "### Define test conditions"
   ]
  },
  {
   "cell_type": "code",
   "execution_count": null,
   "metadata": {
    "collapsed": false
   },
   "outputs": [],
   "source": [
    "alpha = 2.217 # degrees\n",
    "reference_area = 594720.0 # inches^2\n",
    "reference_length = 275.8 # inches, mean chord. \n",
    "reference_span = 1156.75 # inches\n",
    "\n",
    "from IPython.display import HTML\n",
    "HTML(print_html_parameters(parameters))"
   ]
  },
  {
   "cell_type": "code",
   "execution_count": null,
   "metadata": {
    "collapsed": false
   },
   "outputs": [],
   "source": [
    "from zutil.post import cp_profile_wall_from_file\n",
    "\n",
    "def plot_cp_profile(ax,file_root,span_loc):\n",
    "    \n",
    "    force_data = cp_profile_wall_from_file(file_root,\n",
    "                              [0.0,1.0,0.0],\n",
    "                              [0, span_loc*reference_span, 0],\n",
    "                              func=plot_array,\n",
    "                              axis=ax,\n",
    "                              span_loc=span_loc,\n",
    "                              alpha=alpha)\n",
    "    \n",
    "def plot_array(data_array,pts_array,**kwargs):\n",
    "    ax = kwargs['axis']\n",
    "    span_loc = kwargs['span_loc']\n",
    "    cp_array = data_array.GetPointData()['cp']\n",
    "    chord_array = data_array.GetPointData()['chord']\n",
    "    ax.plot(chord_array, cp_array , 'b.',color='b',label='zCFD SST')"
   ]
  },
  {
   "cell_type": "markdown",
   "metadata": {},
   "source": [
    "### Comparison Data"
   ]
  },
  {
   "cell_type": "code",
   "execution_count": null,
   "metadata": {
    "collapsed": false
   },
   "outputs": [],
   "source": [
    "# Reproduce plots from DPWS presentation, page 45\n",
    "# Pressure data points (reference semi-span: 1156.75) \n",
    "# Station Type          WBL      ETA     Chord\n",
    "# 1       CFD Cut Only  121.459  0.1050  466.5\n",
    "# 2       CFD Cut Only  133.026  0.1150  459.6\n",
    "# 3       CFD Cut Only  144.594  0.1250  452.7\n",
    "# 4       Pressure Tap  151.074  0.1306  448.8\n",
    "# 5       Pressure Tap  232.444  0.2009  400.7\n",
    "# 6       Pressure Tap  327.074  0.2828  345.0\n",
    "# 7       CFD Cut Only  396.765  0.3430  304.1\n",
    "# 8       CFD Cut Only  427.998  0.3700  285.8\n",
    "# 9       Pressure Tap  459.370  0.3971  278.1\n",
    "# 10      Pressure Tap  581.148  0.5024  248.3\n",
    "# 11      Pressure Tap  697.333  0.6028  219.9\n",
    "# 12      Pressure Tap  840.704  0.7268  184.8\n",
    "# 13      Pressure Tap  978.148  0.8456  151.2\n",
    "# 14      Pressure Tap  1098.126 0.9500  121.7\n",
    "# 15      CFD Cut Only  1122.048 0.9700  116.0\n",
    "# 16      CFD Cut Only  1145.183 0.9900  110.5\n",
    "\n",
    "#eta_values = [0.1306, 0.2828, 0.3971, 0.5024, 0.7268, 0.9500] # stations 4, 6, 9, 10, 12, 14\n",
    "from collections import OrderedDict\n",
    "station_values = OrderedDict([(\"S04\" , 0.1306), (\"S06\" , 0.2828), (\"S09\" , 0.3971), (\"S10\" , 0.5024) , (\"S12\" , 0.7268), (\"S14\" , 0.9500)])\n",
    "\n",
    "#colours can be b: blue, g: green, r: red, c: cyan, m: magenta, y: yellow, k: black, w: white\n",
    "\n",
    "sources = [[\"Edge SST\",\"r\"], [\"CFD++ SST\",\"g\"], [\"FUN3D SA\", \"m\"], [\"MFlow SA\", \"y\"]] \n",
    "\n",
    "dpws_comparative_data = eval(open('data/DPWS_Comparative_Data.py', 'r').read())\n"
   ]
  },
  {
   "cell_type": "markdown",
   "metadata": {},
   "source": [
    "## Cp Profile"
   ]
  },
  {
   "cell_type": "code",
   "execution_count": null,
   "metadata": {
    "collapsed": false
   },
   "outputs": [],
   "source": [
    "from zutil.post import get_case_root\n",
    "from zutil.post import calc_force_wall\n",
    "\n",
    "\n",
    "pressure_force, friction_force = calc_force_wall(get_case_root(case_name,num_procs),\n",
    "                                                 [],half_model=True,\n",
    "                                                 alpha=alpha)\n",
    "\n",
    "C_L = (pressure_force[2] + friction_force[2])/reference_area\n",
    "C_D = (pressure_force[0] + friction_force[0])/reference_area\n",
    "\n",
    "fig = pl.figure(figsize=(20, 30),dpi=100, facecolor='w', edgecolor='k')\n",
    "fig.suptitle(r'DPW5 $\\alpha$=' + ('%.2f ' % alpha) + ('$C_L$=%.4f ' % C_L) + ('$C_D$=%.4f ' % C_D), fontsize=40, fontweight='bold')\n",
    "\n",
    "plot = 1\n",
    "\n",
    "for station in station_values:\n",
    "    span_loc = station_values[station]\n",
    "    ax = fig.add_subplot(len(station_values)/2,2,plot)\n",
    "    ax.set_title('$C_p$ span='+str(span_loc)+'%', fontsize=20, fontweight='bold')\n",
    "    ax.grid(True)\n",
    "    ax.set_xlabel('x/c')\n",
    "    ax.set_ylabel('$C_p$')\n",
    "    ax.axis([0.0,1.0,1.0,-1.2])\n",
    "    plot_cp_profile(ax,get_case_root(case_name,num_procs),span_loc)\n",
    "    \n",
    "    for source, colour in sources:\n",
    "        plotlist_x = []\n",
    "        plotlist_y = []\n",
    "        for key, value in dpws_comparative_data[\"L3\"][source][station]['X/C'].iteritems():\n",
    "            plotlist_x.append(value)\n",
    "        for key, value in dpws_comparative_data[\"L3\"][source][station]['CP'].iteritems():\n",
    "            plotlist_y.append(value)\n",
    "        \n",
    "        ax.plot(plotlist_x, plotlist_y, 'r.', color=colour, label=source)\n",
    "        \n",
    "    ax.legend(loc='upper right', shadow=True, scatterpoints=1, numpoints=1)\n",
    "\n",
    "    plot += 1\n",
    "    \n",
    "from matplotlib.backends.backend_pdf import PdfPages\n",
    "pp = PdfPages('images/DPWS_cp_profile.pdf')\n",
    "pp.savefig()\n",
    "pp.close()\n",
    "fig.savefig(\"images/DPWS_cp_profile.png\")\n",
    "show()\n",
    "from IPython.display import FileLink, display \n",
    "display(FileLink('images/DPWS_cp_profile.png'))"
   ]
  },
  {
   "cell_type": "markdown",
   "metadata": {},
   "source": [
    "## Convergence"
   ]
  },
  {
   "cell_type": "code",
   "execution_count": null,
   "metadata": {
    "collapsed": false
   },
   "outputs": [],
   "source": [
    "from zutil.post import residual_plot, get_case_report\n",
    "residual_plot(get_case_report(case_name))\n",
    "show()"
   ]
  },
  {
   "cell_type": "markdown",
   "metadata": {},
   "source": [
    "### Cleaning up"
   ]
  },
  {
   "cell_type": "code",
   "execution_count": null,
   "metadata": {
    "collapsed": false
   },
   "outputs": [],
   "source": [
    "if remote_data:\n",
    "    #print 'Disconnecting from remote paraview server connection'\n",
    "    Disconnect()"
   ]
  }
 ],
 "metadata": {
  "kernelspec": {
   "display_name": "Python 2",
   "language": "python",
   "name": "python2"
  },
  "language_info": {
   "codemirror_mode": {
    "name": "ipython",
    "version": 2
   },
   "file_extension": ".py",
   "mimetype": "text/x-python",
   "name": "python",
   "nbconvert_exporter": "python",
   "pygments_lexer": "ipython2",
   "version": "2.7.9"
  }
 },
 "nbformat": 4,
 "nbformat_minor": 0
}
