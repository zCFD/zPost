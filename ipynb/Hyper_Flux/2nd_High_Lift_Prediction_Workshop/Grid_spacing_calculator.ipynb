{
 "metadata": {
  "name": "",
  "signature": "sha256:a003a7734a466d04d45008a554a906f388a4afb008d82aff863e9ffcbd476e9d"
 },
 "nbformat": 3,
 "nbformat_minor": 0,
 "worksheets": [
  {
   "cells": [
    {
     "cell_type": "code",
     "collapsed": false,
     "input": [
      "import numpy as np\n",
      "import math\n",
      "\n",
      "#format long e;\n",
      "#pick the y+\n",
      "y_plus = 1;\n",
      "#constants\n",
      "rho = 1.225;\n",
      "mu = 1.789e-05;\n",
      "nu = mu/rho;\n",
      "#define Reynolds number\n",
      "Re = 6 * 1.0e06\n",
      "#define the reference length in meters\n",
      "L = 1 ;\n",
      "#compute coefficient of friction\n",
      "Cf = 0.074 * math.pow(Re, (-1.0/5.0));\n",
      "#compute the reference velocity (Average)\n",
      "ua = (Re*nu)/(L);\n",
      "#compute the friction velocity\n",
      "V_f = ua * math.sqrt(Cf/2.0);\n",
      "#compute the wall unit\n",
      "y_t = nu / V_f;\n",
      "#compute the first spacing wall specific to the wanted y+\n",
      "y = (y_plus*L)/((math.sqrt(0.037))*math.pow(Re,0.9))\n",
      "print y\n"
     ],
     "language": "python",
     "metadata": {},
     "outputs": [
      {
       "output_type": "stream",
       "stream": "stdout",
       "text": [
        "4.12632102359e-06\n"
       ]
      }
     ],
     "prompt_number": 1
    },
    {
     "cell_type": "code",
     "collapsed": false,
     "input": [],
     "language": "python",
     "metadata": {},
     "outputs": []
    }
   ],
   "metadata": {}
  }
 ]
}