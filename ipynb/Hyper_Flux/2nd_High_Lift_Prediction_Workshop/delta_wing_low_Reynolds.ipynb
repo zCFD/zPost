{
 "metadata": {
  "name": "",
  "signature": "sha256:01f7a58b75fee4ed8c9f9d9580b26b6fcd7428a00e2554ef84d85b1c6faa95c3"
 },
 "nbformat": 3,
 "nbformat_minor": 0,
 "worksheets": [
  {
   "cells": [
    {
     "cell_type": "code",
     "collapsed": false,
     "input": [
      "import numpy as np\n",
      "import pylab as pl\n",
      "import matplotlib as plt\n",
      "\n",
      "\n",
      "\n",
      "\n",
      "\n",
      "\n",
      "\n",
      "\n"
     ],
     "language": "python",
     "metadata": {},
     "outputs": []
    }
   ],
   "metadata": {}
  }
 ]
}