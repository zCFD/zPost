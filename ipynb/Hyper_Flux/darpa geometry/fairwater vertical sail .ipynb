{
 "metadata": {
  "name": "",
  "signature": "sha256:5fb61bcc5c26e592ae1bc3f2ded50a063b6efc944733cf83646a1af2320fb6fa"
 },
 "nbformat": 3,
 "nbformat_minor": 0,
 "worksheets": [
  {
   "cells": [
    {
     "cell_type": "markdown",
     "metadata": {},
     "source": [
      "#**************PYTHON CODE TO GENERATE THE DARPA SUBOFF GEOMETRY \n",
      "\n",
      "\n",
      "###************** FAIRWATER ********************************\n",
      "\n",
      "### The model is in ft. with a scale 1/24\n",
      "### Can be converted to meters \n",
      "\n",
      "\n",
      "####   INCLUDED ARE:\n",
      "#####      SAIL FOREBODY      EQ.       for      3.032986  FT  <  X <  3.358507 FT, \n",
      "#####                                            0.833333  FT  <  Z <  1.507813 FT\n",
      "#####\n",
      "#####      SAIL MID-BODY      EQ.       for      3.358507  FT  <  X <  3.559028 FT,\n",
      "#####                                            0.833333  FT  <  Z <  1.507813 FT\n",
      "#####\n",
      "#####      SAIL AFTERBODY     EQ.       for      3.559028  FT  <  X <  4.241319 FT\n",
      "#####                                            0.833333  FT  <  Z <  1.507813 FT\n",
      "#####\n",
      "#####      SAIL AFTERBODY CAP EQ.       for      3.032986  FT  <  X <  4.241319 FT.\n",
      "#####                                            1.507813  FT  <  Z <  1.562501 FT\n",
      "\n",
      "\n",
      "\n",
      "\n"
     ]
    },
    {
     "cell_type": "code",
     "collapsed": false,
     "input": [
      "%pylab inline\n",
      "import pylab as pl\n",
      "import numpy as np \n",
      "import matplotlib.pyplot as plt\n",
      "import math\n",
      "\n",
      "\n",
      "#***************************************************************************\n",
      "#                         CREATE THE SAIL FOREBODY EQUATION\n",
      "#***************************************************************************\n",
      "\n",
      "LE = np.zeros(shape=(3,3))\n",
      "print LE\n",
      "\n",
      "\n",
      "\n",
      "\n",
      "\n",
      "\n",
      "\n",
      "\n",
      "\n",
      "\n",
      "\n",
      "\n",
      "\n",
      "\n"
     ],
     "language": "python",
     "metadata": {},
     "outputs": [
      {
       "output_type": "stream",
       "stream": "stdout",
       "text": [
        "Populating the interactive namespace from numpy and matplotlib\n",
        "[[ 0.  0.  0.]\n",
        " [ 0.  0.  0.]\n",
        " [ 0.  0.  0.]]\n"
       ]
      }
     ],
     "prompt_number": 5
    },
    {
     "cell_type": "code",
     "collapsed": false,
     "input": [],
     "language": "python",
     "metadata": {},
     "outputs": []
    }
   ],
   "metadata": {}
  }
 ]
}